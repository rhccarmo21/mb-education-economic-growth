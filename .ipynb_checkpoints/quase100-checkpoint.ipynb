{
 "cells": [
  {
   "cell_type": "code",
   "execution_count": null,
   "id": "c2d7fe40-31c3-4ace-abf3-8990300dbdb5",
   "metadata": {},
   "outputs": [],
   "source": [
    "# Importação de bibliotecas - Versão Otimizada\n",
    "import pandas as pd\n",
    "import numpy as np\n",
    "\n",
    "# Visualização\n",
    "import matplotlib.pyplot as plt\n",
    "import seaborn as sns\n",
    "import plotly.express as px\n",
    "import plotly.graph_objects as go\n",
    "from plotly.subplots import make_subplots\n",
    "\n",
    "# Estatísticas e machine learning\n",
    "from scipy import stats\n",
    "import statsmodels.api as sm\n",
    "from statsmodels.formula.api import ols\n",
    "from statsmodels.tsa.seasonal import seasonal_decompose\n",
    "from sklearn.preprocessing import StandardScaler, MinMaxScaler\n",
    "from sklearn.cluster import KMeans, DBSCAN\n",
    "from sklearn.decomposition import PCA\n",
    "from sklearn.linear_model import LinearRegression, Ridge, Lasso\n",
    "from sklearn.ensemble import RandomForestRegressor, GradientBoostingRegressor\n",
    "from sklearn.model_selection import train_test_split, GridSearchCV, cross_val_score\n",
    "from sklearn.metrics import mean_squared_error, r2_score, classification_report, confusion_matrix\n",
    "from sklearn.impute import SimpleImputer\n",
    "\n",
    "# APIs e conectividade\n",
    "import requests\n",
    "import json\n",
    "from datetime import datetime, timedelta\n",
    "import time\n",
    "\n",
    "# Utilitários\n",
    "import warnings\n",
    "import os\n",
    "from pathlib import Path\n",
    "\n",
    "# Configurações\n",
    "pd.set_option('display.max_columns', None)\n",
    "pd.set_option('display.width', 1000)\n",
    "pd.set_option('display.max_rows', 100)\n",
    "pd.set_option('display.float_format', '{:.2f}'.format)\n",
    "\n",
    "# Configurações de visualização\n",
    "sns.set_style(\"whitegrid\")\n",
    "plt.rcParams['figure.figsize'] = (12, 8)\n",
    "plt.rcParams['font.size'] = 12\n",
    "plt.rcParams['axes.titlesize'] = 16\n",
    "plt.rcParams['axes.labelsize'] = 14\n",
    "\n",
    "# Configurações do Plotly\n",
    "import plotly.io as pio\n",
    "pio.templates.default = \"plotly_white\"\n",
    "\n",
    "# Gerenciamento de warnings\n",
    "warnings.filterwarnings('ignore')\n",
    "warnings.filterwarnings('ignore', category=DeprecationWarning)\n",
    "warnings.filterwarnings('ignore', category=FutureWarning)\n",
    "\n",
    "# Configuração de semente para reproducibilidade\n",
    "RANDOM_STATE = 42\n",
    "np.random.seed(RANDOM_STATE)\n",
    "\n",
    "print(\"Bibliotecas importadas e configuradas com sucesso!\")\n",
    "print(f\"Pandas version: {pd.__version__}\")\n",
    "print(f\"NumPy version: {np.__version__}\")"
   ]
  },
  {
   "cell_type": "code",
   "execution_count": 20,
   "id": "22dac9f5-c632-466c-898a-8f8648d28d6e",
   "metadata": {},
   "outputs": [
    {
     "name": "stdout",
     "output_type": "stream",
     "text": [
      "Iniciando coleta de dados do World Bank...\n",
      "Dados carregados com sucesso!\n",
      "Shape: (50, 10)\n",
      "Período: 2000 - 2022\n",
      "Países: 3\n"
     ]
    },
    {
     "data": {
      "text/html": [
       "<div>\n",
       "<style scoped>\n",
       "    .dataframe tbody tr th:only-of-type {\n",
       "        vertical-align: middle;\n",
       "    }\n",
       "\n",
       "    .dataframe tbody tr th {\n",
       "        vertical-align: top;\n",
       "    }\n",
       "\n",
       "    .dataframe thead th {\n",
       "        text-align: right;\n",
       "    }\n",
       "</style>\n",
       "<table border=\"1\" class=\"dataframe\">\n",
       "  <thead>\n",
       "    <tr style=\"text-align: right;\">\n",
       "      <th></th>\n",
       "      <th>country</th>\n",
       "      <th>year</th>\n",
       "      <th>gdp_per_capita_ppp</th>\n",
       "      <th>gdp_growth</th>\n",
       "      <th>education_expenditure</th>\n",
       "      <th>primary_school_enrollment</th>\n",
       "      <th>secondary_school_enrollment</th>\n",
       "      <th>tertiary_school_enrollment</th>\n",
       "      <th>unemployment</th>\n",
       "      <th>gini_index</th>\n",
       "    </tr>\n",
       "  </thead>\n",
       "  <tbody>\n",
       "    <tr>\n",
       "      <th>0</th>\n",
       "      <td>Africa Eastern and Southern</td>\n",
       "      <td>2000</td>\n",
       "      <td>3175.467232</td>\n",
       "      <td>3.212167</td>\n",
       "      <td>3.60613</td>\n",
       "      <td>78.739220</td>\n",
       "      <td>27.600420</td>\n",
       "      <td>3.88637</td>\n",
       "      <td>7.788317</td>\n",
       "      <td>None</td>\n",
       "    </tr>\n",
       "    <tr>\n",
       "      <th>1</th>\n",
       "      <td>Africa Eastern and Southern</td>\n",
       "      <td>2001</td>\n",
       "      <td>3207.570295</td>\n",
       "      <td>3.505488</td>\n",
       "      <td>4.34167</td>\n",
       "      <td>81.968987</td>\n",
       "      <td>28.667891</td>\n",
       "      <td>4.20996</td>\n",
       "      <td>7.676955</td>\n",
       "      <td>None</td>\n",
       "    </tr>\n",
       "    <tr>\n",
       "      <th>2</th>\n",
       "      <td>Africa Eastern and Southern</td>\n",
       "      <td>2002</td>\n",
       "      <td>3247.655911</td>\n",
       "      <td>3.833848</td>\n",
       "      <td>NaN</td>\n",
       "      <td>84.697456</td>\n",
       "      <td>29.320730</td>\n",
       "      <td>4.47116</td>\n",
       "      <td>7.632330</td>\n",
       "      <td>None</td>\n",
       "    </tr>\n",
       "    <tr>\n",
       "      <th>3</th>\n",
       "      <td>Africa Eastern and Southern</td>\n",
       "      <td>2003</td>\n",
       "      <td>3263.224449</td>\n",
       "      <td>2.952939</td>\n",
       "      <td>NaN</td>\n",
       "      <td>88.640617</td>\n",
       "      <td>29.911110</td>\n",
       "      <td>4.77924</td>\n",
       "      <td>7.586883</td>\n",
       "      <td>None</td>\n",
       "    </tr>\n",
       "    <tr>\n",
       "      <th>4</th>\n",
       "      <td>Africa Eastern and Southern</td>\n",
       "      <td>2004</td>\n",
       "      <td>3361.793730</td>\n",
       "      <td>5.554448</td>\n",
       "      <td>3.74496</td>\n",
       "      <td>91.049660</td>\n",
       "      <td>31.325420</td>\n",
       "      <td>5.06203</td>\n",
       "      <td>7.395648</td>\n",
       "      <td>None</td>\n",
       "    </tr>\n",
       "  </tbody>\n",
       "</table>\n",
       "</div>"
      ],
      "text/plain": [
       "                       country  year  gdp_per_capita_ppp  gdp_growth  education_expenditure  primary_school_enrollment  secondary_school_enrollment  tertiary_school_enrollment  unemployment gini_index\n",
       "0  Africa Eastern and Southern  2000         3175.467232    3.212167                3.60613                  78.739220                    27.600420                     3.88637      7.788317       None\n",
       "1  Africa Eastern and Southern  2001         3207.570295    3.505488                4.34167                  81.968987                    28.667891                     4.20996      7.676955       None\n",
       "2  Africa Eastern and Southern  2002         3247.655911    3.833848                    NaN                  84.697456                    29.320730                     4.47116      7.632330       None\n",
       "3  Africa Eastern and Southern  2003         3263.224449    2.952939                    NaN                  88.640617                    29.911110                     4.77924      7.586883       None\n",
       "4  Africa Eastern and Southern  2004         3361.793730    5.554448                3.74496                  91.049660                    31.325420                     5.06203      7.395648       None"
      ]
     },
     "metadata": {},
     "output_type": "display_data"
    }
   ],
   "source": [
    "import pandas as pd\n",
    "import numpy as np\n",
    "import requests\n",
    "from itertools import product\n",
    "\n",
    "# ----------------------------\n",
    "# Funções de coleta de dados\n",
    "# ----------------------------\n",
    "def fetch_worldbank_data(indicator, countries='all', years='2000:2022'):\n",
    "    \"\"\"Coleta dados do Banco Mundial via API\"\"\"\n",
    "    url = f\"https://api.worldbank.org/v2/country/{countries}/indicator/{indicator}?format=json&date={years}\"\n",
    "    try:\n",
    "        response = requests.get(url)\n",
    "        response.raise_for_status()\n",
    "        data = response.json()\n",
    "        \n",
    "        records = [\n",
    "            {\n",
    "                'country': item['country']['value'],\n",
    "                'country_code': item['country']['id'],\n",
    "                'year': int(item['date']),\n",
    "                'value': item['value'],\n",
    "                'indicator': item['indicator']['id']\n",
    "            } for item in data[1]\n",
    "        ]\n",
    "        return pd.DataFrame(records)\n",
    "    except (requests.RequestException, KeyError, IndexError) as e:\n",
    "        print(f\"Atenção: falha ao buscar {indicator}. Gerando fallback sintético. Erro: {e}\")\n",
    "        return pd.DataFrame()\n",
    "\n",
    "def generate_synthetic_data(countries, years):\n",
    "    \"\"\"Gera dados sintéticos para fallback caso a API falhe\"\"\"\n",
    "    np.random.seed(42)\n",
    "    synthetic_data = []\n",
    "    \n",
    "    for country, year in product(countries, years):\n",
    "        base_gdp = np.random.uniform(5000, 50000)\n",
    "        base_edu = np.random.uniform(70, 98)\n",
    "        growth_trend = 0.02 * (year - 2000)\n",
    "\n",
    "        synthetic_data.append({\n",
    "            'country': country,\n",
    "            'year': year,\n",
    "            'gdp_per_capita_ppp': base_gdp * (1 + growth_trend + np.random.normal(0, 0.05)),\n",
    "            'gdp_growth': np.random.normal(0.03, 0.02),\n",
    "            'education_expenditure': np.random.uniform(3, 8),\n",
    "            'primary_school_enrollment': np.clip(base_edu + np.random.normal(0, 2), 70, 100),\n",
    "            'secondary_school_enrollment': np.clip(base_edu - np.random.uniform(5, 15), 60, 98),\n",
    "            'tertiary_school_enrollment': np.clip(base_edu - np.random.uniform(20, 40), 20, 80),\n",
    "            'unemployment': np.random.uniform(4, 12),\n",
    "            'gini_index': np.random.uniform(25, 60)\n",
    "        })\n",
    "    \n",
    "    return pd.DataFrame(synthetic_data)\n",
    "\n",
    "# ----------------------------\n",
    "# Lista de indicadores e mapeamento\n",
    "# ----------------------------\n",
    "indicators = {\n",
    "    'NY.GDP.PCAP.PP.KD': 'gdp_per_capita_ppp',\n",
    "    'NY.GDP.MKTP.KD.ZG': 'gdp_growth',\n",
    "    'SE.XPD.TOTL.GD.ZS': 'education_expenditure',\n",
    "    'SE.PRM.ENRR': 'primary_school_enrollment',\n",
    "    'SE.SEC.ENRR': 'secondary_school_enrollment',\n",
    "    'SE.TER.ENRR': 'tertiary_school_enrollment',\n",
    "    'SL.UEM.TOTL.ZS': 'unemployment',\n",
    "    'SI.POV.GINI': 'gini_index'\n",
    "}\n",
    "\n",
    "# ----------------------------\n",
    "# Coleta e combinação de dados\n",
    "# ----------------------------\n",
    "print(\"Iniciando coleta de dados do World Bank...\")\n",
    "dfs = []\n",
    "for indicator, col_name in indicators.items():\n",
    "    df = fetch_worldbank_data(indicator)\n",
    "    if not df.empty:\n",
    "        dfs.append(df[['country', 'year', 'value']].rename(columns={'value': col_name}))\n",
    "\n",
    "# Se falhou, gerar dados sintéticos\n",
    "if not dfs or sum(len(df) for df in dfs) < 100:\n",
    "    print(\"Gerando dados sintéticos para fallback...\")\n",
    "    countries = ['USA', 'China', 'India', 'Brazil', 'Germany', 'France', 'UK', 'Japan',\n",
    "                 'Australia', 'Canada', 'Mexico', 'South Africa', 'Nigeria', 'Egypt']\n",
    "    years = list(range(2000, 2023))\n",
    "    combined_df = generate_synthetic_data(countries, years)\n",
    "else:\n",
    "    combined_df = dfs[0]\n",
    "    for df in dfs[1:]:\n",
    "        combined_df = pd.merge(combined_df, df, on=['country', 'year'], how='outer')\n",
    "\n",
    "# ----------------------------\n",
    "# Informações sobre o dataset\n",
    "# ----------------------------\n",
    "print(\"Dados carregados com sucesso!\")\n",
    "print(f\"Shape: {combined_df.shape}\")\n",
    "print(f\"Período: {combined_df['year'].min()} - {combined_df['year'].max()}\")\n",
    "print(f\"Países: {combined_df['country'].nunique()}\")\n",
    "display(combined_df.head())\n"
   ]
  },
  {
   "cell_type": "code",
   "execution_count": null,
   "id": "d204fa1c-8d77-4f8b-bcd5-bb5597d1ae1c",
   "metadata": {},
   "outputs": [
    {
     "name": "stdout",
     "output_type": "stream",
     "text": [
      "=== ANÁLISE EXPLORATÓRIA DE DADOS ===\n",
      "Valores missing por coluna:\n",
      "                            Valores Missing  Percentual (%)\n",
      "indicator                                                  \n",
      "education_expenditure                     8            16.0\n",
      "tertiary_school_enrollment                2             4.0\n"
     ]
    },
    {
     "data": {
      "image/png": "[encoded data removed]",
      "text/plain": [
       "<Figure size 1200x600 with 1 Axes>"
      ]
     },
     "metadata": {},
     "output_type": "display_data"
    },
    {
     "name": "stdout",
     "output_type": "stream",
     "text": [
      "\n",
      "Dados disponíveis para 2022: 3 países\n"
     ]
    }
   ],
   "source": [
    "# Análise exploratória inicial\n",
    "print(\"=== ANÁLISE EXPLORATÓRIA DE DADOS ===\")\n",
    "\n",
    "# Verificar valores missing\n",
    "missing_data = combined_df.isnull().sum()\n",
    "missing_percent = (combined_df.isnull().sum() / len(combined_df)) * 100\n",
    "missing_df = pd.DataFrame({\n",
    "    'Valores Missing': missing_data,\n",
    "    'Percentual (%)': missing_percent\n",
    "})\n",
    "print(\"Valores missing por coluna:\")\n",
    "print(missing_df[missing_df['Valores Missing'] > 0])\n",
    "\n",
    "# Distribuição temporal dos dados\n",
    "yearly_counts = combined_df.groupby('year').size()\n",
    "plt.figure(figsize=(12, 6))\n",
    "yearly_counts.plot(kind='bar', color='skyblue')\n",
    "plt.title('Número de Observações por Ano')\n",
    "plt.xlabel('Ano')\n",
    "plt.ylabel('Contagem')\n",
    "plt.xticks(rotation=45)\n",
    "plt.tight_layout()\n",
    "plt.show()\n",
    "\n",
    "# Distribuição geográfica (último ano disponível)\n",
    "latest_year = combined_df['year'].max()\n",
    "latest_data = combined_df[combined_df['year'] == latest_year]\n",
    "\n",
    "print(f\"\\nDados disponíveis para {latest_year}: {len(latest_data)} países\")\n",
    "\n",
    "# Visualizar distribuição do PIB per capita\n",
    "plt.figure(figsize=(14, 8))\n",
    "\n",
    "plt.subplot(2, 2, 1)\n",
    "sns.histplot(latest_data['gdp_per_capita_ppp'], kde=True, bins=30)\n",
    "plt.title('Distribuição do PIB per Capita (PPP)')\n",
    "plt.xlabel('PIB per Capita (PPP)')\n",
    "\n",
    "plt.subplot(2, 2, 2)\n",
    "sns.histplot(latest_data['education_expenditure'], kde=True, bins=30)\n",
    "plt.title('Distribuição do Gasto em Educação (% do PIB)')\n",
    "plt.xlabel('Gasto em Educação (% do PIB)')\n",
    "\n",
    "plt.subplot(2, 2, 3)\n",
    "sns.histplot(latest_data['secondary_school_enrollment'], kde=True, bins=30)\n",
    "plt.title('Distribuição de Matrícula no Ensino Secundário')\n",
    "plt.xlabel('Taxa de Matrícula (%)')\n",
    "\n",
    "plt.subplot(2, 2, 4)\n",
    "sns.scatterplot(data=latest_data, x='education_expenditure', y='gdp_per_capita_ppp')\n",
    "plt.title('Relação entre Gasto em Educação e PIB per Capita')\n",
    "plt.xlabel('Gasto em Educação (% do PIB)')\n",
    "plt.ylabel('PIB per Capita (PPP)')\n",
    "\n",
    "plt.tight_layout()\n",
    "plt.show()\n",
    "\n",
    "# Matriz de correlação\n",
    "numeric_cols = ['gdp_per_capita_ppp', 'gdp_growth', 'education_expenditure',\n",
    "                'primary_school_enrollment', 'secondary_school_enrollment',\n",
    "                'tertiary_school_enrollment', 'unemployment', 'gini_index']\n",
    "\n",
    "correlation_matrix = latest_data[numeric_cols].corr()\n",
    "\n",
    "plt.figure(figsize=(12, 10))\n",
    "sns.heatmap(correlation_matrix, annot=True, cmap='coolwarm', center=0,\n",
    "            square=True, fmt='.2f', linewidths=0.5)\n",
    "plt.title('Matriz de Correlação entre Variáveis Econômicas e Educacionais')\n",
    "plt.tight_layout()\n",
    "plt.show()\n",
    "\n",
    "# Análise por regiões (agrupando países por \"regiões\" aproximadas)\n",
    "# Definir regiões com base em conhecimento de mundo (simplificado)\n",
    "region_mapping = {\n",
    "    'USA': 'América do Norte',\n",
    "    'Canada': 'América do Norte',\n",
    "    'Mexico': 'América Latina',\n",
    "    'Brazil': 'América Latina',\n",
    "    'UK': 'Europa Ocidental',\n",
    "    'France': 'Europa Ocidental',\n",
    "    'Germany': 'Europa Ocidental',\n",
    "    'China': 'Ásia Oriental',\n",
    "    'Japan': 'Ásia Oriental',\n",
    "    'India': 'Ásia Meridional',\n",
    "    'Australia': 'Oceania',\n",
    "    'South Africa': 'África',\n",
    "    'Nigeria': 'África',\n",
    "    'Egypt': 'África'\n",
    "}\n",
    "\n",
    "latest_data['region'] = latest_data['country'].map(region_mapping)\n",
    "\n",
    "# Análise comparativa por região\n",
    "if not latest_data['region'].isnull().all():\n",
    "    plt.figure(figsize=(16, 12))\n",
    "    \n",
    "    plt.subplot(2, 2, 1)\n",
    "    sns.boxplot(data=latest_data, x='region', y='gdp_per_capita_ppp')\n",
    "    plt.title('PIB per Capita por Região')\n",
    "    plt.xticks(rotation=45)\n",
    "    \n",
    "    plt.subplot(2, 2, 2)\n",
    "    sns.boxplot(data=latest_data, x='region', y='education_expenditure')\n",
    "    plt.title('Gasto em Educação por Região')\n",
    "    plt.xticks(rotation=45)\n",
    "    \n",
    "    plt.subplot(2, 2, 3)\n",
    "    sns.scatterplot(data=latest_data, x='secondary_school_enrollment', \n",
    "                   y='gdp_per_capita_ppp', hue='region', style='region', s=100)\n",
    "    plt.title('Relação entre Matrícula Secundária e PIB per Capita por Região')\n",
    "    plt.xlabel('Matrícula no Ensino Secundário (%)')\n",
    "    plt.ylabel('PIB per Capita (PPP)')\n",
    "    \n",
    "    plt.subplot(2, 2, 4)\n",
    "    region_stats = latest_data.groupby('region').agg({\n",
    "        'gdp_per_capita_ppp': 'mean',\n",
    "        'education_expenditure': 'mean',\n",
    "        'secondary_school_enrollment': 'mean'\n",
    "    }).round(2)\n",
    "    print(\"Estatísticas por região:\")\n",
    "    print(region_stats)\n",
    "    \n",
    "    plt.table(cellText=region_stats.values,\n",
    "              rowLabels=region_stats.index,\n",
    "              colLabels=region_stats.columns,\n",
    "              cellLoc='center', loc='center')\n",
    "    plt.axis('off')\n",
    "    plt.title('Estatísticas Médias por Região')\n",
    "    \n",
    "    plt.tight_layout()\n",
    "    plt.show()"
   ]
  },
  {
   "cell_type": "code",
   "execution_count": 5,
   "id": "15094da0-7849-4034-aa17-9402fb5db234",
   "metadata": {},
   "outputs": [
    {
     "name": "stdout",
     "output_type": "stream",
     "text": [
      "=== ANÁLISE ESTATÍSTICA ===\n",
      "1. CORRELAÇÃO ENTRE VARIÁVEIS EDUCACIONAIS E ECONÔMICAS\n",
      "Resultados de Correlação:\n",
      "primary_school_enrollment vs gdp_per_capita_ppp: r = -0.096, p = 0.7433, n = 14\n",
      "primary_school_enrollment vs gdp_growth: r = -0.136, p = 0.6430, n = 14\n",
      "secondary_school_enrollment vs gdp_per_capita_ppp: r = -0.221, p = 0.4467, n = 14\n",
      "secondary_school_enrollment vs gdp_growth: r = -0.122, p = 0.6770, n = 14\n",
      "tertiary_school_enrollment vs gdp_per_capita_ppp: r = -0.105, p = 0.7210, n = 14\n",
      "tertiary_school_enrollment vs gdp_growth: r = -0.371, p = 0.1922, n = 14\n",
      "education_expenditure vs gdp_per_capita_ppp: r = 0.020, p = 0.9448, n = 14\n",
      "education_expenditure vs gdp_growth: r = 0.414, p = 0.1417, n = 14\n",
      "\n",
      "2. REGRESSÃO LINEAR: IMPACTO DA EDUCAÇÃO NO PIB PER CAPITA\n",
      "                            OLS Regression Results                            \n",
      "==============================================================================\n",
      "Dep. Variable:     gdp_per_capita_ppp   R-squared:                       0.130\n",
      "Model:                            OLS   Adj. R-squared:                 -0.257\n",
      "Method:                 Least Squares   F-statistic:                    0.3348\n",
      "Date:                Mon, 25 Aug 2025   Prob (F-statistic):              0.848\n",
      "Time:                        15:13:55   Log-Likelihood:                -156.12\n",
      "No. Observations:                  14   AIC:                             322.2\n",
      "Df Residuals:                       9   BIC:                             325.4\n",
      "Df Model:                           4                                         \n",
      "Covariance Type:            nonrobust                                         \n",
      "===============================================================================================\n",
      "                                  coef    std err          t      P>|t|      [0.025      0.975]\n",
      "-----------------------------------------------------------------------------------------------\n",
      "const                        9.181e+04   7.74e+04      1.186      0.266   -8.32e+04    2.67e+05\n",
      "secondary_school_enrollment  -451.2774    659.003     -0.685      0.511   -1942.045    1039.490\n",
      "education_expenditure         361.9043   4689.332      0.077      0.940   -1.02e+04     1.1e+04\n",
      "unemployment                -2345.6087   2943.008     -0.797      0.446   -9003.155    4311.937\n",
      "gini_index                    101.6533    913.570      0.111      0.914   -1964.986    2168.293\n",
      "==============================================================================\n",
      "Omnibus:                        3.565   Durbin-Watson:                   1.668\n",
      "Prob(Omnibus):                  0.168   Jarque-Bera (JB):                1.942\n",
      "Skew:                          -0.912   Prob(JB):                        0.379\n",
      "Kurtosis:                       3.056   Cond. No.                     1.24e+03\n",
      "==============================================================================\n",
      "\n",
      "Notes:\n",
      "[1] Standard Errors assume that the covariance matrix of the errors is correctly specified.\n",
      "[2] The condition number is large, 1.24e+03. This might indicate that there are\n",
      "strong multicollinearity or other numerical problems.\n"
     ]
    },
    {
     "data": {
      "image/png": "[encoded data removed]",
      "text/plain": [
       "<Figure size 1200x600 with 2 Axes>"
      ]
     },
     "metadata": {},
     "output_type": "display_data"
    },
    {
     "name": "stdout",
     "output_type": "stream",
     "text": [
      "\n",
      "3. ANÁLISE DE CLUSTERS: PADRÕES REGIONAIS\n"
     ]
    },
    {
     "data": {
      "image/png": "[encoded data removed]",
      "text/plain": [
       "<Figure size 1000x600 with 1 Axes>"
      ]
     },
     "metadata": {},
     "output_type": "display_data"
    },
    {
     "data": {
      "image/png": "[encoded data removed]",
      "text/plain": [
       "<Figure size 1200x800 with 2 Axes>"
      ]
     },
     "metadata": {},
     "output_type": "display_data"
    },
    {
     "name": "stdout",
     "output_type": "stream",
     "text": [
      "Características médias por cluster:\n",
      "         gdp_per_capita_ppp  secondary_school_enrollment  education_expenditure  gini_index\n",
      "cluster                                                                                    \n",
      "0              60267.624860                    65.000551               4.938392   55.636559\n",
      "1              50681.062495                    72.992741               4.441739   43.724783\n",
      "2              27002.006206                    81.038153               5.211222   51.455032\n",
      "\n",
      "Países por cluster:\n",
      "Cluster 0: 3 países\n",
      "   France, Japan, Australia\n",
      "Cluster 1: 6 países\n",
      "   Germany, UK, Canada, Mexico, South Africa, Nigeria\n",
      "Cluster 2: 5 países\n",
      "   USA, China, India, Brazil, Egypt\n",
      "\n",
      "4. ANÁLISE TEMPORAL: RELAÇÃO LONGO PRAZO\n"
     ]
    },
    {
     "data": {
      "image/png": "[encoded data removed]",
      "text/plain": [
       "<Figure size 1600x1200 with 4 Axes>"
      ]
     },
     "metadata": {},
     "output_type": "display_data"
    },
    {
     "name": "stdout",
     "output_type": "stream",
     "text": [
      "Correlações com lag temporal (educação → PIB futuro):\n",
      "\n",
      "USA:\n",
      "  lag_0: r = 0.007\n",
      "  lag_1: r = 0.067\n",
      "  lag_2: r = -0.074\n",
      "  lag_3: r = 0.033\n",
      "  lag_4: r = -0.227\n",
      "  lag_5: r = -0.095\n",
      "\n",
      "China:\n",
      "  lag_0: r = -0.358\n",
      "  lag_1: r = -0.267\n",
      "  lag_2: r = -0.205\n",
      "  lag_3: r = -0.183\n",
      "  lag_4: r = -0.387\n",
      "  lag_5: r = -0.304\n",
      "\n",
      "Brazil:\n",
      "  lag_0: r = 0.014\n",
      "  lag_1: r = 0.017\n",
      "  lag_2: r = 0.087\n",
      "  lag_3: r = 0.039\n",
      "  lag_4: r = 0.147\n",
      "  lag_5: r = 0.043\n",
      "\n",
      "Germany:\n",
      "  lag_0: r = -0.310\n",
      "  lag_1: r = -0.166\n",
      "  lag_2: r = 0.064\n",
      "  lag_3: r = 0.052\n",
      "  lag_4: r = 0.143\n",
      "  lag_5: r = -0.029\n",
      "\n",
      "India:\n",
      "  lag_0: r = 0.030\n",
      "  lag_1: r = -0.116\n",
      "  lag_2: r = -0.050\n",
      "  lag_3: r = -0.117\n",
      "  lag_4: r = -0.111\n",
      "  lag_5: r = 0.044\n"
     ]
    }
   ],
   "source": [
    "# Análises estatísticas para testar as hipóteses de pesquisa\n",
    "print(\"=== ANÁLISE ESTATÍSTICA ===\")\n",
    "\n",
    "# 1. Teste de correlação entre educação e crescimento econômico\n",
    "print(\"1. CORRELAÇÃO ENTRE VARIÁVEIS EDUCACIONAIS E ECONÔMICAS\")\n",
    "\n",
    "# Calcular correlações para as principais variáveis\n",
    "edu_vars = ['primary_school_enrollment', 'secondary_school_enrollment', \n",
    "            'tertiary_school_enrollment', 'education_expenditure']\n",
    "econ_vars = ['gdp_per_capita_ppp', 'gdp_growth']\n",
    "\n",
    "correlation_results = {}\n",
    "for edu_var in edu_vars:\n",
    "    for econ_var in econ_vars:\n",
    "        # Remover valores missing para o cálculo\n",
    "        valid_data = latest_data[[edu_var, econ_var]].dropna()\n",
    "        if len(valid_data) > 10:  # Garantir tamanho mínimo de amostra\n",
    "            corr, p_value = stats.pearsonr(valid_data[edu_var], valid_data[econ_var])\n",
    "            correlation_results[f\"{edu_var} vs {econ_var}\"] = {\n",
    "                'correlation': corr,\n",
    "                'p_value': p_value,\n",
    "                'n': len(valid_data)\n",
    "            }\n",
    "\n",
    "# Exibir resultados de correlação\n",
    "print(\"Resultados de Correlação:\")\n",
    "for key, result in correlation_results.items():\n",
    "    sig = \"***\" if result['p_value'] < 0.001 else \"**\" if result['p_value'] < 0.01 else \"*\" if result['p_value'] < 0.05 else \"\"\n",
    "    print(f\"{key}: r = {result['correlation']:.3f}{sig}, p = {result['p_value']:.4f}, n = {result['n']}\")\n",
    "\n",
    "# 2. Regressão linear múltipla para avaliar o impacto da educação no PIB\n",
    "print(\"\\n2. REGRESSÃO LINEAR: IMPACTO DA EDUCAÇÃO NO PIB PER CAPITA\")\n",
    "\n",
    "# Preparar dados para regressão\n",
    "regression_data = latest_data[['gdp_per_capita_ppp', 'secondary_school_enrollment',\n",
    "                              'education_expenditure', 'unemployment', 'gini_index']].dropna()\n",
    "\n",
    "if len(regression_data) > 10:\n",
    "    # Definir variáveis dependentes e independentes\n",
    "    X = regression_data[['secondary_school_enrollment', 'education_expenditure', \n",
    "                        'unemployment', 'gini_index']]\n",
    "    y = regression_data['gdp_per_capita_ppp']\n",
    "    \n",
    "    # Adicionar constante (intercepto)\n",
    "    X = sm.add_constant(X)\n",
    "    \n",
    "    # Ajustar modelo de regressão\n",
    "    model = sm.OLS(y, X).fit()\n",
    "    \n",
    "    # Exibir resultados\n",
    "    print(model.summary())\n",
    "    \n",
    "    # Visualizar resíduos\n",
    "    plt.figure(figsize=(12, 6))\n",
    "    \n",
    "    plt.subplot(1, 2, 1)\n",
    "    plt.scatter(model.fittedvalues, model.resid)\n",
    "    plt.axhline(y=0, color='r', linestyle='--')\n",
    "    plt.xlabel('Valores Preditos')\n",
    "    plt.ylabel('Resíduos')\n",
    "    plt.title('Gráfico de Resíduos vs Preditos')\n",
    "    \n",
    "    plt.subplot(1, 2, 2)\n",
    "    stats.probplot(model.resid, dist=\"norm\", plot=plt)\n",
    "    plt.title('Q-Q Plot dos Resíduos')\n",
    "    \n",
    "    plt.tight_layout()\n",
    "    plt.show()\n",
    "else:\n",
    "    print(\"Dados insuficientes para análise de regressão.\")\n",
    "\n",
    "# 3. Análise de clusters para identificar padrões regionais\n",
    "print(\"\\n3. ANÁLISE DE CLUSTERS: PADRÕES REGIONAIS\")\n",
    "\n",
    "# Preparar dados para clustering\n",
    "cluster_data = latest_data[['gdp_per_capita_ppp', 'secondary_school_enrollment',\n",
    "                           'education_expenditure', 'gini_index']].dropna()\n",
    "\n",
    "if len(cluster_data) > 10:\n",
    "    # Normalizar dados\n",
    "    scaler = StandardScaler()\n",
    "    scaled_data = scaler.fit_transform(cluster_data)\n",
    "    \n",
    "    # Determinar número ótimo de clusters usando método do cotovelo\n",
    "    wcss = []\n",
    "    for i in range(1, 11):\n",
    "        kmeans = KMeans(n_clusters=i, init='k-means++', random_state=42)\n",
    "        kmeans.fit(scaled_data)\n",
    "        wcss.append(kmeans.inertia_)\n",
    "    \n",
    "    plt.figure(figsize=(10, 6))\n",
    "    plt.plot(range(1, 11), wcss, marker='o', linestyle='--')\n",
    "    plt.xlabel('Número de Clusters')\n",
    "    plt.ylabel('WCSS')\n",
    "    plt.title('Método do Cotovelo para Número Ótimo de Clusters')\n",
    "    plt.show()\n",
    "    \n",
    "    # Aplicar K-means com número ótimo de clusters (vamos usar 3 para demonstração)\n",
    "    kmeans = KMeans(n_clusters=3, init='k-means++', random_state=42)\n",
    "    clusters = kmeans.fit_predict(scaled_data)\n",
    "    \n",
    "    # Adicionar clusters aos dados originais\n",
    "    cluster_data = cluster_data.copy()\n",
    "    cluster_data['cluster'] = clusters\n",
    "    \n",
    "    # Visualizar clusters (usando PCA para redução dimensional)\n",
    "    pca = PCA(n_components=2)\n",
    "    principal_components = pca.fit_transform(scaled_data)\n",
    "    \n",
    "    plt.figure(figsize=(12, 8))\n",
    "    scatter = plt.scatter(principal_components[:, 0], principal_components[:, 1], \n",
    "                         c=clusters, cmap='viridis', s=100, alpha=0.7)\n",
    "    plt.xlabel('Componente Principal 1')\n",
    "    plt.ylabel('Componente Principal 2')\n",
    "    plt.title('Visualização de Clusters (PCA)')\n",
    "    plt.colorbar(scatter, label='Cluster')\n",
    "    plt.show()\n",
    "    \n",
    "    # Analisar características dos clusters\n",
    "    cluster_analysis = cluster_data.groupby('cluster').mean()\n",
    "    print(\"Características médias por cluster:\")\n",
    "    print(cluster_analysis)\n",
    "    \n",
    "    # Contar países por cluster (se tivermos os nomes dos países)\n",
    "    if 'country' in latest_data.columns:\n",
    "        country_clusters = latest_data.loc[cluster_data.index, ['country']].copy()\n",
    "        country_clusters['cluster'] = clusters\n",
    "        print(\"\\nPaíses por cluster:\")\n",
    "        for cluster_id in range(3):\n",
    "            countries_in_cluster = country_clusters[country_clusters['cluster'] == cluster_id]['country'].tolist()\n",
    "            print(f\"Cluster {cluster_id}: {len(countries_in_cluster)} países\")\n",
    "            print(f\"   {', '.join(countries_in_cluster[:10])}{'...' if len(countries_in_cluster) > 10 else ''}\")\n",
    "\n",
    "# 4. Análise de séries temporais para avaliar causalidade\n",
    "print(\"\\n4. ANÁLISE TEMPORAL: RELAÇÃO LONGO PRAZO\")\n",
    "\n",
    "# Selecionar alguns países para análise temporal\n",
    "selected_countries = ['USA', 'China', 'Brazil', 'Germany', 'India']\n",
    "temp_data = combined_df[combined_df['country'].isin(selected_countries)]\n",
    "\n",
    "# Visualizar evolução temporal\n",
    "fig, axes = plt.subplots(2, 2, figsize=(16, 12))\n",
    "\n",
    "# PIB per capita ao longo do tempo\n",
    "for country in selected_countries:\n",
    "    country_data = temp_data[temp_data['country'] == country]\n",
    "    axes[0, 0].plot(country_data['year'], country_data['gdp_per_capita_ppp'], \n",
    "                   label=country, marker='o')\n",
    "axes[0, 0].set_title('Evolução do PIB per Capita')\n",
    "axes[0, 0].set_xlabel('Ano')\n",
    "axes[0, 0].set_ylabel('PIB per Capita (PPP)')\n",
    "axes[0, 0].legend()\n",
    "axes[0, 0].grid(True)\n",
    "\n",
    "# Matrícula no ensino secundário ao longo do tempo\n",
    "for country in selected_countries:\n",
    "    country_data = temp_data[temp_data['country'] == country]\n",
    "    axes[0, 1].plot(country_data['year'], country_data['secondary_school_enrollment'], \n",
    "                   label=country, marker='s')\n",
    "axes[0, 1].set_title('Evolução da Matrícula no Ensino Secundário')\n",
    "axes[0, 1].set_xlabel('Ano')\n",
    "axes[0, 1].set_ylabel('Taxa de Matrícula (%)')\n",
    "axes[0, 1].legend()\n",
    "axes[0, 1].grid(True)\n",
    "\n",
    "# Gasto em educação ao longo do tempo\n",
    "for country in selected_countries:\n",
    "    country_data = temp_data[temp_data['country'] == country]\n",
    "    axes[1, 0].plot(country_data['year'], country_data['education_expenditure'], \n",
    "                   label=country, marker='^')\n",
    "axes[1, 0].set_title('Evolução do Gasto em Educação (% do PIB)')\n",
    "axes[1, 0].set_xlabel('Ano')\n",
    "axes[1, 0].set_ylabel('Gasto em Educação (% do PIB)')\n",
    "axes[1, 0].legend()\n",
    "axes[1, 0].grid(True)\n",
    "\n",
    "# Relação entre educação e PIB com lag temporal\n",
    "# Testar correlação com defasagem temporal (educação → crescimento futuro)\n",
    "lag_correlations = {}\n",
    "for country in selected_countries:\n",
    "    country_data = temp_data[temp_data['country'] == country].sort_values('year')\n",
    "    \n",
    "    # Calcular correlações com diferentes lags\n",
    "    for lag in range(0, 6):  # Lags de 0 a 5 anos\n",
    "        if len(country_data) > lag + 5:  # Garantir tamanho mínimo\n",
    "            # Deslocar variáveis educacionais\n",
    "            edu_shifted = country_data['secondary_school_enrollment'].shift(lag)\n",
    "            gdp_values = country_data['gdp_per_capita_ppp'].iloc[lag:]\n",
    "            \n",
    "            # Calcular correlação\n",
    "            valid_data = pd.concat([edu_shifted, gdp_values], axis=1).dropna()\n",
    "            if len(valid_data) > 5:\n",
    "                corr, p_value = stats.pearsonr(valid_data.iloc[:, 0], valid_data.iloc[:, 1])\n",
    "                if country not in lag_correlations:\n",
    "                    lag_correlations[country] = {}\n",
    "                lag_correlations[country][f'lag_{lag}'] = {'corr': corr, 'p_value': p_value}\n",
    "\n",
    "# Visualizar correlações com lag\n",
    "lag_df = pd.DataFrame({country: {lag: vals['corr'] for lag, vals in lags.items()} \n",
    "                      for country, lags in lag_correlations.items()})\n",
    "lag_df.plot(marker='o', ax=axes[1, 1])\n",
    "axes[1, 1].set_title('Correlação Educação→PIB com Diferentes Lags Temporais')\n",
    "axes[1, 1].set_xlabel('Lag (anos)')\n",
    "axes[1, 1].set_ylabel('Correlação')\n",
    "axes[1, 1].grid(True)\n",
    "axes[1, 1].legend(title='País')\n",
    "\n",
    "plt.tight_layout()\n",
    "plt.show()\n",
    "\n",
    "# Exibir correlações com lag\n",
    "print(\"Correlações com lag temporal (educação → PIB futuro):\")\n",
    "for country, lags in lag_correlations.items():\n",
    "    print(f\"\\n{country}:\")\n",
    "    for lag, values in lags.items():\n",
    "        sig = \"***\" if values['p_value'] < 0.001 else \"**\" if values['p_value'] < 0.01 else \"*\" if values['p_value'] < 0.05 else \"\"\n",
    "        print(f\"  {lag}: r = {values['corr']:.3f}{sig}\")"
   ]
  },
  {
   "cell_type": "code",
   "execution_count": 6,
   "id": "c8f388d0-8f70-40a7-97d5-00d1a84d1e2e",
   "metadata": {},
   "outputs": [
    {
     "name": "stdout",
     "output_type": "stream",
     "text": [
      "=== VISUALIZAÇÕES AVANÇADAS ===\n",
      "1. MAPA MUNDIAL INTERATIVO\n"
     ]
    },
    {
     "name": "stderr",
     "output_type": "stream",
     "text": [
      "/tmp/ipykernel_17735/1544491338.py:9: DeprecationWarning: The library used by the *country names* `locationmode` option is changing in an upcoming version. Country names in existing plots may not work in the new version. To ensure consistent behavior, consider setting `locationmode` to *ISO-3*.\n",
      "  fig = px.choropleth(latest_data,\n"
     ]
    },
    {
     "data": {
      "application/vnd.plotly.v1+json": {
       "config": {
        "plotlyServerURL": "https://plot.ly"
       },
       "data": [
        {
         "coloraxis": "coloraxis",
         "customdata": {
          "bdata": "0HrnLdpPVUBIerIg1ccSQAAdN49h51BAnHiYb0IXG0CKWW4XSNJUQI5MPLttIBBAJXqKIjglVUAbMtvy/xkOQNILH9Qcf1NAICdC2kz+EEBK6fFtk5VPQAWOK7oWdxFASereTJueUkD053DBtKkJQKa9XYttwU5AxPSNMeYBFUCIw8qampRRQOC8eOjAyRRAMSuDycmHUUA7nJl8xAwOQM/q37OX8FBACfRC066LCkAca6MU1xVVQIC6dIIbCRRAnj+AbIuiT0BDHAqfj3EcQAt8uIh5HVVA1mEZNu8sG0A=",
          "dtype": "f8",
          "shape": "14, 2"
         },
         "geo": "geo",
         "hovertemplate": "<b>%{hovertext}</b><br><br>country=%{location}<br>secondary_school_enrollment=%{customdata[0]}<br>education_expenditure=%{customdata[1]}<br>gdp_per_capita_ppp=%{z}<extra></extra>",
         "hovertext": [
          "USA",
          "China",
          "India",
          "Brazil",
          "Germany",
          "France",
          "UK",
          "Japan",
          "Australia",
          "Canada",
          "Mexico",
          "South Africa",
          "Nigeria",
          "Egypt"
         ],
         "locationmode": "country names",
         "locations": [
          "USA",
          "China",
          "India",
          "Brazil",
          "Germany",
          "France",
          "UK",
          "Japan",
          "Australia",
          "Canada",
          "Mexico",
          "South Africa",
          "Nigeria",
          "Egypt"
         ],
         "name": "",
         "type": "choropleth",
         "z": {
          "bdata": "uFjFXYsC30D9MZ0MB6rHQFWQBX/YLttAooiIGyxzyEBuXe05ygTxQBdZESdaS/BAUPm6B4jX4EDTWphZngjoQNZQ1VQJqe9AH8hH6Mhr6EC8jsOq9x/kQG6h1+vdQ+5Ac/ZLBRHK5kC058ZFQszoQA==",
          "dtype": "f8"
         }
        }
       ],
       "layout": {
        "coloraxis": {
         "colorbar": {
          "title": {
           "text": "gdp_per_capita_ppp"
          }
         },
         "colorscale": [
          [
           0,
           "#0d0887"
          ],
          [
           0.1111111111111111,
           "#46039f"
          ],
          [
           0.2222222222222222,
           "#7201a8"
          ],
          [
           0.3333333333333333,
           "#9c179e"
          ],
          [
           0.4444444444444444,
           "#bd3786"
          ],
          [
           0.5555555555555556,
           "#d8576b"
          ],
          [
           0.6666666666666666,
           "#ed7953"
          ],
          [
           0.7777777777777778,
           "#fb9f3a"
          ],
          [
           0.8888888888888888,
           "#fdca26"
          ],
          [
           1,
           "#f0f921"
          ]
         ]
        },
        "geo": {
         "center": {},
         "domain": {
          "x": [
           0,
           1
          ],
          "y": [
           0,
           1
          ]
         }
        },
        "legend": {
         "tracegroupgap": 0
        },
        "template": {
         "data": {
          "bar": [
           {
            "error_x": {
             "color": "#2a3f5f"
            },
            "error_y": {
             "color": "#2a3f5f"
            },
            "marker": {
             "line": {
              "color": "#E5ECF6",
              "width": 0.5
             },
             "pattern": {
              "fillmode": "overlay",
              "size": 10,
              "solidity": 0.2
             }
            },
            "type": "bar"
           }
          ],
          "barpolar": [
           {
            "marker": {
             "line": {
              "color": "#E5ECF6",
              "width": 0.5
             },
             "pattern": {
              "fillmode": "overlay",
              "size": 10,
              "solidity": 0.2
             }
            },
            "type": "barpolar"
           }
          ],
          "carpet": [
           {
            "aaxis": {
             "endlinecolor": "#2a3f5f",
             "gridcolor": "white",
             "linecolor": "white",
             "minorgridcolor": "white",
             "startlinecolor": "#2a3f5f"
            },
            "baxis": {
             "endlinecolor": "#2a3f5f",
             "gridcolor": "white",
             "linecolor": "white",
             "minorgridcolor": "white",
             "startlinecolor": "#2a3f5f"
            },
            "type": "carpet"
           }
          ],
          "choropleth": [
           {
            "colorbar": {
             "outlinewidth": 0,
             "ticks": ""
            },
            "type": "choropleth"
           }
          ],
          "contour": [
           {
            "colorbar": {
             "outlinewidth": 0,
             "ticks": ""
            },
            "colorscale": [
             [
              0,
              "#0d0887"
             ],
             [
              0.1111111111111111,
              "#46039f"
             ],
             [
              0.2222222222222222,
              "#7201a8"
             ],
             [
              0.3333333333333333,
              "#9c179e"
             ],
             [
              0.4444444444444444,
              "#bd3786"
             ],
             [
              0.5555555555555556,
              "#d8576b"
             ],
             [
              0.6666666666666666,
              "#ed7953"
             ],
             [
              0.7777777777777778,
              "#fb9f3a"
             ],
             [
              0.8888888888888888,
              "#fdca26"
             ],
             [
              1,
              "#f0f921"
             ]
            ],
            "type": "contour"
           }
          ],
          "contourcarpet": [
           {
            "colorbar": {
             "outlinewidth": 0,
             "ticks": ""
            },
            "type": "contourcarpet"
           }
          ],
          "heatmap": [
           {
            "colorbar": {
             "outlinewidth": 0,
             "ticks": ""
            },
            "colorscale": [
             [
              0,
              "#0d0887"
             ],
             [
              0.1111111111111111,
              "#46039f"
             ],
             [
              0.2222222222222222,
              "#7201a8"
             ],
             [
              0.3333333333333333,
              "#9c179e"
             ],
             [
              0.4444444444444444,
              "#bd3786"
             ],
             [
              0.5555555555555556,
              "#d8576b"
             ],
             [
              0.6666666666666666,
              "#ed7953"
             ],
             [
              0.7777777777777778,
              "#fb9f3a"
             ],
             [
              0.8888888888888888,
              "#fdca26"
             ],
             [
              1,
              "#f0f921"
             ]
            ],
            "type": "heatmap"
           }
          ],
          "histogram": [
           {
            "marker": {
             "pattern": {
              "fillmode": "overlay",
              "size": 10,
              "solidity": 0.2
             }
            },
            "type": "histogram"
           }
          ],
          "histogram2d": [
           {
            "colorbar": {
             "outlinewidth": 0,
             "ticks": ""
            },
            "colorscale": [
             [
              0,
              "#0d0887"
             ],
             [
              0.1111111111111111,
              "#46039f"
             ],
             [
              0.2222222222222222,
              "#7201a8"
             ],
             [
              0.3333333333333333,
              "#9c179e"
             ],
             [
              0.4444444444444444,
              "#bd3786"
             ],
             [
              0.5555555555555556,
              "#d8576b"
             ],
             [
              0.6666666666666666,
              "#ed7953"
             ],
             [
              0.7777777777777778,
              "#fb9f3a"
             ],
             [
              0.8888888888888888,
              "#fdca26"
             ],
             [
              1,
              "#f0f921"
             ]
            ],
            "type": "histogram2d"
           }
          ],
          "histogram2dcontour": [
           {
            "colorbar": {
             "outlinewidth": 0,
             "ticks": ""
            },
            "colorscale": [
             [
              0,
              "#0d0887"
             ],
             [
              0.1111111111111111,
              "#46039f"
             ],
             [
              0.2222222222222222,
              "#7201a8"
             ],
             [
              0.3333333333333333,
              "#9c179e"
             ],
             [
              0.4444444444444444,
              "#bd3786"
             ],
             [
              0.5555555555555556,
              "#d8576b"
             ],
             [
              0.6666666666666666,
              "#ed7953"
             ],
             [
              0.7777777777777778,
              "#fb9f3a"
             ],
             [
              0.8888888888888888,
              "#fdca26"
             ],
             [
              1,
              "#f0f921"
             ]
            ],
            "type": "histogram2dcontour"
           }
          ],
          "mesh3d": [
           {
            "colorbar": {
             "outlinewidth": 0,
             "ticks": ""
            },
            "type": "mesh3d"
           }
          ],
          "parcoords": [
           {
            "line": {
             "colorbar": {
              "outlinewidth": 0,
              "ticks": ""
             }
            },
            "type": "parcoords"
           }
          ],
          "pie": [
           {
            "automargin": true,
            "type": "pie"
           }
          ],
          "scatter": [
           {
            "fillpattern": {
             "fillmode": "overlay",
             "size": 10,
             "solidity": 0.2
            },
            "type": "scatter"
           }
          ],
          "scatter3d": [
           {
            "line": {
             "colorbar": {
              "outlinewidth": 0,
              "ticks": ""
             }
            },
            "marker": {
             "colorbar": {
              "outlinewidth": 0,
              "ticks": ""
             }
            },
            "type": "scatter3d"
           }
          ],
          "scattercarpet": [
           {
            "marker": {
             "colorbar": {
              "outlinewidth": 0,
              "ticks": ""
             }
            },
            "type": "scattercarpet"
           }
          ],
          "scattergeo": [
           {
            "marker": {
             "colorbar": {
              "outlinewidth": 0,
              "ticks": ""
             }
            },
            "type": "scattergeo"
           }
          ],
          "scattergl": [
           {
            "marker": {
             "colorbar": {
              "outlinewidth": 0,
              "ticks": ""
             }
            },
            "type": "scattergl"
           }
          ],
          "scattermap": [
           {
            "marker": {
             "colorbar": {
              "outlinewidth": 0,
              "ticks": ""
             }
            },
            "type": "scattermap"
           }
          ],
          "scattermapbox": [
           {
            "marker": {
             "colorbar": {
              "outlinewidth": 0,
              "ticks": ""
             }
            },
            "type": "scattermapbox"
           }
          ],
          "scatterpolar": [
           {
            "marker": {
             "colorbar": {
              "outlinewidth": 0,
              "ticks": ""
             }
            },
            "type": "scatterpolar"
           }
          ],
          "scatterpolargl": [
           {
            "marker": {
             "colorbar": {
              "outlinewidth": 0,
              "ticks": ""
             }
            },
            "type": "scatterpolargl"
           }
          ],
          "scatterternary": [
           {
            "marker": {
             "colorbar": {
              "outlinewidth": 0,
              "ticks": ""
             }
            },
            "type": "scatterternary"
           }
          ],
          "surface": [
           {
            "colorbar": {
             "outlinewidth": 0,
             "ticks": ""
            },
            "colorscale": [
             [
              0,
              "#0d0887"
             ],
             [
              0.1111111111111111,
              "#46039f"
             ],
             [
              0.2222222222222222,
              "#7201a8"
             ],
             [
              0.3333333333333333,
              "#9c179e"
             ],
             [
              0.4444444444444444,
              "#bd3786"
             ],
             [
              0.5555555555555556,
              "#d8576b"
             ],
             [
              0.6666666666666666,
              "#ed7953"
             ],
             [
              0.7777777777777778,
              "#fb9f3a"
             ],
             [
              0.8888888888888888,
              "#fdca26"
             ],
             [
              1,
              "#f0f921"
             ]
            ],
            "type": "surface"
           }
          ],
          "table": [
           {
            "cells": {
             "fill": {
              "color": "#EBF0F8"
             },
             "line": {
              "color": "white"
             }
            },
            "header": {
             "fill": {
              "color": "#C8D4E3"
             },
             "line": {
              "color": "white"
             }
            },
            "type": "table"
           }
          ]
         },
         "layout": {
          "annotationdefaults": {
           "arrowcolor": "#2a3f5f",
           "arrowhead": 0,
           "arrowwidth": 1
          },
          "autotypenumbers": "strict",
          "coloraxis": {
           "colorbar": {
            "outlinewidth": 0,
            "ticks": ""
           }
          },
          "colorscale": {
           "diverging": [
            [
             0,
             "#8e0152"
            ],
            [
             0.1,
             "#c51b7d"
            ],
            [
             0.2,
             "#de77ae"
            ],
            [
             0.3,
             "#f1b6da"
            ],
            [
             0.4,
             "#fde0ef"
            ],
            [
             0.5,
             "#f7f7f7"
            ],
            [
             0.6,
             "#e6f5d0"
            ],
            [
             0.7,
             "#b8e186"
            ],
            [
             0.8,
             "#7fbc41"
            ],
            [
             0.9,
             "#4d9221"
            ],
            [
             1,
             "#276419"
            ]
           ],
           "sequential": [
            [
             0,
             "#0d0887"
            ],
            [
             0.1111111111111111,
             "#46039f"
            ],
            [
             0.2222222222222222,
             "#7201a8"
            ],
            [
             0.3333333333333333,
             "#9c179e"
            ],
            [
             0.4444444444444444,
             "#bd3786"
            ],
            [
             0.5555555555555556,
             "#d8576b"
            ],
            [
             0.6666666666666666,
             "#ed7953"
            ],
            [
             0.7777777777777778,
             "#fb9f3a"
            ],
            [
             0.8888888888888888,
             "#fdca26"
            ],
            [
             1,
             "#f0f921"
            ]
           ],
           "sequentialminus": [
            [
             0,
             "#0d0887"
            ],
            [
             0.1111111111111111,
             "#46039f"
            ],
            [
             0.2222222222222222,
             "#7201a8"
            ],
            [
             0.3333333333333333,
             "#9c179e"
            ],
            [
             0.4444444444444444,
             "#bd3786"
            ],
            [
             0.5555555555555556,
             "#d8576b"
            ],
            [
             0.6666666666666666,
             "#ed7953"
            ],
            [
             0.7777777777777778,
             "#fb9f3a"
            ],
            [
             0.8888888888888888,
             "#fdca26"
            ],
            [
             1,
             "#f0f921"
            ]
           ]
          },
          "colorway": [
           "#636efa",
           "#EF553B",
           "#00cc96",
           "#ab63fa",
           "#FFA15A",
           "#19d3f3",
           "#FF6692",
           "#B6E880",
           "#FF97FF",
           "#FECB52"
          ],
          "font": {
           "color": "#2a3f5f"
          },
          "geo": {
           "bgcolor": "white",
           "lakecolor": "white",
           "landcolor": "#E5ECF6",
           "showlakes": true,
           "showland": true,
           "subunitcolor": "white"
          },
          "hoverlabel": {
           "align": "left"
          },
          "hovermode": "closest",
          "mapbox": {
           "style": "light"
          },
          "paper_bgcolor": "white",
          "plot_bgcolor": "#E5ECF6",
          "polar": {
           "angularaxis": {
            "gridcolor": "white",
            "linecolor": "white",
            "ticks": ""
           },
           "bgcolor": "#E5ECF6",
           "radialaxis": {
            "gridcolor": "white",
            "linecolor": "white",
            "ticks": ""
           }
          },
          "scene": {
           "xaxis": {
            "backgroundcolor": "#E5ECF6",
            "gridcolor": "white",
            "gridwidth": 2,
            "linecolor": "white",
            "showbackground": true,
            "ticks": "",
            "zerolinecolor": "white"
           },
           "yaxis": {
            "backgroundcolor": "#E5ECF6",
            "gridcolor": "white",
            "gridwidth": 2,
            "linecolor": "white",
            "showbackground": true,
            "ticks": "",
            "zerolinecolor": "white"
           },
           "zaxis": {
            "backgroundcolor": "#E5ECF6",
            "gridcolor": "white",
            "gridwidth": 2,
            "linecolor": "white",
            "showbackground": true,
            "ticks": "",
            "zerolinecolor": "white"
           }
          },
          "shapedefaults": {
           "line": {
            "color": "#2a3f5f"
           }
          },
          "ternary": {
           "aaxis": {
            "gridcolor": "white",
            "linecolor": "white",
            "ticks": ""
           },
           "baxis": {
            "gridcolor": "white",
            "linecolor": "white",
            "ticks": ""
           },
           "bgcolor": "#E5ECF6",
           "caxis": {
            "gridcolor": "white",
            "linecolor": "white",
            "ticks": ""
           }
          },
          "title": {
           "x": 0.05
          },
          "xaxis": {
           "automargin": true,
           "gridcolor": "white",
           "linecolor": "white",
           "ticks": "",
           "title": {
            "standoff": 15
           },
           "zerolinecolor": "white",
           "zerolinewidth": 2
          },
          "yaxis": {
           "automargin": true,
           "gridcolor": "white",
           "linecolor": "white",
           "ticks": "",
           "title": {
            "standoff": 15
           },
           "zerolinecolor": "white",
           "zerolinewidth": 2
          }
         }
        },
        "title": {
         "text": "PIB per Capita Mundial e Indicadores Educacionais"
        }
       }
      }
     },
     "metadata": {},
     "output_type": "display_data"
    },
    {
     "data": {
      "application/vnd.plotly.v1+json": {
       "config": {
        "plotlyServerURL": "https://plot.ly"
       },
       "data": [
        {
         "hovertemplate": "<b>%{hovertext}</b><br><br>region=América do Norte<br>secondary_school_enrollment=%{x}<br>gdp_per_capita_ppp=%{y}<br>education_expenditure=%{marker.size}<extra></extra>",
         "hovertext": [
          "USA",
          "Canada"
         ],
         "legendgroup": "América do Norte",
         "marker": {
          "color": "#636efa",
          "size": {
           "bdata": "SHqyINXHEkA7nJl8xAwOQA==",
           "dtype": "f8"
          },
          "sizemode": "area",
          "sizeref": 0.007900999371202352,
          "symbol": "circle"
         },
         "mode": "markers",
         "name": "América do Norte",
         "orientation": "v",
         "showlegend": true,
         "type": "scatter",
         "x": {
          "bdata": "0HrnLdpPVUAxK4PJyYdRQA==",
          "dtype": "f8"
         },
         "xaxis": "x",
         "y": {
          "bdata": "uFjFXYsC30AfyEfoyGvoQA==",
          "dtype": "f8"
         },
         "yaxis": "y"
        },
        {
         "hovertemplate": "<b>%{hovertext}</b><br><br>region=Ásia Oriental<br>secondary_school_enrollment=%{x}<br>gdp_per_capita_ppp=%{y}<br>education_expenditure=%{marker.size}<extra></extra>",
         "hovertext": [
          "China",
          "Japan"
         ],
         "legendgroup": "Ásia Oriental",
         "marker": {
          "color": "#EF553B",
          "size": {
           "bdata": "nHiYb0IXG0DE9I0x5gEVQA==",
           "dtype": "f8"
          },
          "sizemode": "area",
          "sizeref": 0.007900999371202352,
          "symbol": "circle"
         },
         "mode": "markers",
         "name": "Ásia Oriental",
         "orientation": "v",
         "showlegend": true,
         "type": "scatter",
         "x": {
          "bdata": "AB03j2HnUECmvV2LbcFOQA==",
          "dtype": "f8"
         },
         "xaxis": "x",
         "y": {
          "bdata": "/TGdDAeqx0DTWphZngjoQA==",
          "dtype": "f8"
         },
         "yaxis": "y"
        },
        {
         "hovertemplate": "<b>%{hovertext}</b><br><br>region=Ásia Meridional<br>secondary_school_enrollment=%{x}<br>gdp_per_capita_ppp=%{y}<br>education_expenditure=%{marker.size}<extra></extra>",
         "hovertext": [
          "India"
         ],
         "legendgroup": "Ásia Meridional",
         "marker": {
          "color": "#00cc96",
          "size": {
           "bdata": "jkw8u20gEEA=",
           "dtype": "f8"
          },
          "sizemode": "area",
          "sizeref": 0.007900999371202352,
          "symbol": "circle"
         },
         "mode": "markers",
         "name": "Ásia Meridional",
         "orientation": "v",
         "showlegend": true,
         "type": "scatter",
         "x": {
          "bdata": "illuF0jSVEA=",
          "dtype": "f8"
         },
         "xaxis": "x",
         "y": {
          "bdata": "VZAFf9gu20A=",
          "dtype": "f8"
         },
         "yaxis": "y"
        },
        {
         "hovertemplate": "<b>%{hovertext}</b><br><br>region=América Latina<br>secondary_school_enrollment=%{x}<br>gdp_per_capita_ppp=%{y}<br>education_expenditure=%{marker.size}<extra></extra>",
         "hovertext": [
          "Brazil",
          "Mexico"
         ],
         "legendgroup": "América Latina",
         "marker": {
          "color": "#ab63fa",
          "size": {
           "bdata": "GzLb8v8ZDkAJ9ELTrosKQA==",
           "dtype": "f8"
          },
          "sizemode": "area",
          "sizeref": 0.007900999371202352,
          "symbol": "circle"
         },
         "mode": "markers",
         "name": "América Latina",
         "orientation": "v",
         "showlegend": true,
         "type": "scatter",
         "x": {
          "bdata": "JXqKIjglVUDP6t+zl/BQQA==",
          "dtype": "f8"
         },
         "xaxis": "x",
         "y": {
          "bdata": "ooiIGyxzyEC8jsOq9x/kQA==",
          "dtype": "f8"
         },
         "yaxis": "y"
        },
        {
         "hovertemplate": "<b>%{hovertext}</b><br><br>region=Europa Ocidental<br>secondary_school_enrollment=%{x}<br>gdp_per_capita_ppp=%{y}<br>education_expenditure=%{marker.size}<extra></extra>",
         "hovertext": [
          "Germany",
          "France",
          "UK"
         ],
         "legendgroup": "Europa Ocidental",
         "marker": {
          "color": "#FFA15A",
          "size": {
           "bdata": "ICdC2kz+EEAFjiu6FncRQPTncMG0qQlA",
           "dtype": "f8"
          },
          "sizemode": "area",
          "sizeref": 0.007900999371202352,
          "symbol": "circle"
         },
         "mode": "markers",
         "name": "Europa Ocidental",
         "orientation": "v",
         "showlegend": true,
         "type": "scatter",
         "x": {
          "bdata": "0gsf1Bx/U0BK6fFtk5VPQEnq3kybnlJA",
          "dtype": "f8"
         },
         "xaxis": "x",
         "y": {
          "bdata": "bl3tOcoE8UAXWREnWkvwQFD5ugeI1+BA",
          "dtype": "f8"
         },
         "yaxis": "y"
        },
        {
         "hovertemplate": "<b>%{hovertext}</b><br><br>region=Oceania<br>secondary_school_enrollment=%{x}<br>gdp_per_capita_ppp=%{y}<br>education_expenditure=%{marker.size}<extra></extra>",
         "hovertext": [
          "Australia"
         ],
         "legendgroup": "Oceania",
         "marker": {
          "color": "#19d3f3",
          "size": {
           "bdata": "4Lx46MDJFEA=",
           "dtype": "f8"
          },
          "sizemode": "area",
          "sizeref": 0.007900999371202352,
          "symbol": "circle"
         },
         "mode": "markers",
         "name": "Oceania",
         "orientation": "v",
         "showlegend": true,
         "type": "scatter",
         "x": {
          "bdata": "iMPKmpqUUUA=",
          "dtype": "f8"
         },
         "xaxis": "x",
         "y": {
          "bdata": "1lDVVAmp70A=",
          "dtype": "f8"
         },
         "yaxis": "y"
        },
        {
         "hovertemplate": "<b>%{hovertext}</b><br><br>region=África<br>secondary_school_enrollment=%{x}<br>gdp_per_capita_ppp=%{y}<br>education_expenditure=%{marker.size}<extra></extra>",
         "hovertext": [
          "South Africa",
          "Nigeria",
          "Egypt"
         ],
         "legendgroup": "África",
         "marker": {
          "color": "#FF6692",
          "size": {
           "bdata": "gLp0ghsJFEBDHAqfj3EcQNZhGTbvLBtA",
           "dtype": "f8"
          },
          "sizemode": "area",
          "sizeref": 0.007900999371202352,
          "symbol": "circle"
         },
         "mode": "markers",
         "name": "África",
         "orientation": "v",
         "showlegend": true,
         "type": "scatter",
         "x": {
          "bdata": "HGujFNcVVUCeP4Bsi6JPQAt8uIh5HVVA",
          "dtype": "f8"
         },
         "xaxis": "x",
         "y": {
          "bdata": "bqHX691D7kBz9ksFEcrmQLTnxkVCzOhA",
          "dtype": "f8"
         },
         "yaxis": "y"
        }
       ],
       "layout": {
        "legend": {
         "itemsizing": "constant",
         "title": {
          "text": "region"
         },
         "tracegroupgap": 0
        },
        "template": {
         "data": {
          "bar": [
           {
            "error_x": {
             "color": "#2a3f5f"
            },
            "error_y": {
             "color": "#2a3f5f"
            },
            "marker": {
             "line": {
              "color": "#E5ECF6",
              "width": 0.5
             },
             "pattern": {
              "fillmode": "overlay",
              "size": 10,
              "solidity": 0.2
             }
            },
            "type": "bar"
           }
          ],
          "barpolar": [
           {
            "marker": {
             "line": {
              "color": "#E5ECF6",
              "width": 0.5
             },
             "pattern": {
              "fillmode": "overlay",
              "size": 10,
              "solidity": 0.2
             }
            },
            "type": "barpolar"
           }
          ],
          "carpet": [
           {
            "aaxis": {
             "endlinecolor": "#2a3f5f",
             "gridcolor": "white",
             "linecolor": "white",
             "minorgridcolor": "white",
             "startlinecolor": "#2a3f5f"
            },
            "baxis": {
             "endlinecolor": "#2a3f5f",
             "gridcolor": "white",
             "linecolor": "white",
             "minorgridcolor": "white",
             "startlinecolor": "#2a3f5f"
            },
            "type": "carpet"
           }
          ],
          "choropleth": [
           {
            "colorbar": {
             "outlinewidth": 0,
             "ticks": ""
            },
            "type": "choropleth"
           }
          ],
          "contour": [
           {
            "colorbar": {
             "outlinewidth": 0,
             "ticks": ""
            },
            "colorscale": [
             [
              0,
              "#0d0887"
             ],
             [
              0.1111111111111111,
              "#46039f"
             ],
             [
              0.2222222222222222,
              "#7201a8"
             ],
             [
              0.3333333333333333,
              "#9c179e"
             ],
             [
              0.4444444444444444,
              "#bd3786"
             ],
             [
              0.5555555555555556,
              "#d8576b"
             ],
             [
              0.6666666666666666,
              "#ed7953"
             ],
             [
              0.7777777777777778,
              "#fb9f3a"
             ],
             [
              0.8888888888888888,
              "#fdca26"
             ],
             [
              1,
              "#f0f921"
             ]
            ],
            "type": "contour"
           }
          ],
          "contourcarpet": [
           {
            "colorbar": {
             "outlinewidth": 0,
             "ticks": ""
            },
            "type": "contourcarpet"
           }
          ],
          "heatmap": [
           {
            "colorbar": {
             "outlinewidth": 0,
             "ticks": ""
            },
            "colorscale": [
             [
              0,
              "#0d0887"
             ],
             [
              0.1111111111111111,
              "#46039f"
             ],
             [
              0.2222222222222222,
              "#7201a8"
             ],
             [
              0.3333333333333333,
              "#9c179e"
             ],
             [
              0.4444444444444444,
              "#bd3786"
             ],
             [
              0.5555555555555556,
              "#d8576b"
             ],
             [
              0.6666666666666666,
              "#ed7953"
             ],
             [
              0.7777777777777778,
              "#fb9f3a"
             ],
             [
              0.8888888888888888,
              "#fdca26"
             ],
             [
              1,
              "#f0f921"
             ]
            ],
            "type": "heatmap"
           }
          ],
          "histogram": [
           {
            "marker": {
             "pattern": {
              "fillmode": "overlay",
              "size": 10,
              "solidity": 0.2
             }
            },
            "type": "histogram"
           }
          ],
          "histogram2d": [
           {
            "colorbar": {
             "outlinewidth": 0,
             "ticks": ""
            },
            "colorscale": [
             [
              0,
              "#0d0887"
             ],
             [
              0.1111111111111111,
              "#46039f"
             ],
             [
              0.2222222222222222,
              "#7201a8"
             ],
             [
              0.3333333333333333,
              "#9c179e"
             ],
             [
              0.4444444444444444,
              "#bd3786"
             ],
             [
              0.5555555555555556,
              "#d8576b"
             ],
             [
              0.6666666666666666,
              "#ed7953"
             ],
             [
              0.7777777777777778,
              "#fb9f3a"
             ],
             [
              0.8888888888888888,
              "#fdca26"
             ],
             [
              1,
              "#f0f921"
             ]
            ],
            "type": "histogram2d"
           }
          ],
          "histogram2dcontour": [
           {
            "colorbar": {
             "outlinewidth": 0,
             "ticks": ""
            },
            "colorscale": [
             [
              0,
              "#0d0887"
             ],
             [
              0.1111111111111111,
              "#46039f"
             ],
             [
              0.2222222222222222,
              "#7201a8"
             ],
             [
              0.3333333333333333,
              "#9c179e"
             ],
             [
              0.4444444444444444,
              "#bd3786"
             ],
             [
              0.5555555555555556,
              "#d8576b"
             ],
             [
              0.6666666666666666,
              "#ed7953"
             ],
             [
              0.7777777777777778,
              "#fb9f3a"
             ],
             [
              0.8888888888888888,
              "#fdca26"
             ],
             [
              1,
              "#f0f921"
             ]
            ],
            "type": "histogram2dcontour"
           }
          ],
          "mesh3d": [
           {
            "colorbar": {
             "outlinewidth": 0,
             "ticks": ""
            },
            "type": "mesh3d"
           }
          ],
          "parcoords": [
           {
            "line": {
             "colorbar": {
              "outlinewidth": 0,
              "ticks": ""
             }
            },
            "type": "parcoords"
           }
          ],
          "pie": [
           {
            "automargin": true,
            "type": "pie"
           }
          ],
          "scatter": [
           {
            "fillpattern": {
             "fillmode": "overlay",
             "size": 10,
             "solidity": 0.2
            },
            "type": "scatter"
           }
          ],
          "scatter3d": [
           {
            "line": {
             "colorbar": {
              "outlinewidth": 0,
              "ticks": ""
             }
            },
            "marker": {
             "colorbar": {
              "outlinewidth": 0,
              "ticks": ""
             }
            },
            "type": "scatter3d"
           }
          ],
          "scattercarpet": [
           {
            "marker": {
             "colorbar": {
              "outlinewidth": 0,
              "ticks": ""
             }
            },
            "type": "scattercarpet"
           }
          ],
          "scattergeo": [
           {
            "marker": {
             "colorbar": {
              "outlinewidth": 0,
              "ticks": ""
             }
            },
            "type": "scattergeo"
           }
          ],
          "scattergl": [
           {
            "marker": {
             "colorbar": {
              "outlinewidth": 0,
              "ticks": ""
             }
            },
            "type": "scattergl"
           }
          ],
          "scattermap": [
           {
            "marker": {
             "colorbar": {
              "outlinewidth": 0,
              "ticks": ""
             }
            },
            "type": "scattermap"
           }
          ],
          "scattermapbox": [
           {
            "marker": {
             "colorbar": {
              "outlinewidth": 0,
              "ticks": ""
             }
            },
            "type": "scattermapbox"
           }
          ],
          "scatterpolar": [
           {
            "marker": {
             "colorbar": {
              "outlinewidth": 0,
              "ticks": ""
             }
            },
            "type": "scatterpolar"
           }
          ],
          "scatterpolargl": [
           {
            "marker": {
             "colorbar": {
              "outlinewidth": 0,
              "ticks": ""
             }
            },
            "type": "scatterpolargl"
           }
          ],
          "scatterternary": [
           {
            "marker": {
             "colorbar": {
              "outlinewidth": 0,
              "ticks": ""
             }
            },
            "type": "scatterternary"
           }
          ],
          "surface": [
           {
            "colorbar": {
             "outlinewidth": 0,
             "ticks": ""
            },
            "colorscale": [
             [
              0,
              "#0d0887"
             ],
             [
              0.1111111111111111,
              "#46039f"
             ],
             [
              0.2222222222222222,
              "#7201a8"
             ],
             [
              0.3333333333333333,
              "#9c179e"
             ],
             [
              0.4444444444444444,
              "#bd3786"
             ],
             [
              0.5555555555555556,
              "#d8576b"
             ],
             [
              0.6666666666666666,
              "#ed7953"
             ],
             [
              0.7777777777777778,
              "#fb9f3a"
             ],
             [
              0.8888888888888888,
              "#fdca26"
             ],
             [
              1,
              "#f0f921"
             ]
            ],
            "type": "surface"
           }
          ],
          "table": [
           {
            "cells": {
             "fill": {
              "color": "#EBF0F8"
             },
             "line": {
              "color": "white"
             }
            },
            "header": {
             "fill": {
              "color": "#C8D4E3"
             },
             "line": {
              "color": "white"
             }
            },
            "type": "table"
           }
          ]
         },
         "layout": {
          "annotationdefaults": {
           "arrowcolor": "#2a3f5f",
           "arrowhead": 0,
           "arrowwidth": 1
          },
          "autotypenumbers": "strict",
          "coloraxis": {
           "colorbar": {
            "outlinewidth": 0,
            "ticks": ""
           }
          },
          "colorscale": {
           "diverging": [
            [
             0,
             "#8e0152"
            ],
            [
             0.1,
             "#c51b7d"
            ],
            [
             0.2,
             "#de77ae"
            ],
            [
             0.3,
             "#f1b6da"
            ],
            [
             0.4,
             "#fde0ef"
            ],
            [
             0.5,
             "#f7f7f7"
            ],
            [
             0.6,
             "#e6f5d0"
            ],
            [
             0.7,
             "#b8e186"
            ],
            [
             0.8,
             "#7fbc41"
            ],
            [
             0.9,
             "#4d9221"
            ],
            [
             1,
             "#276419"
            ]
           ],
           "sequential": [
            [
             0,
             "#0d0887"
            ],
            [
             0.1111111111111111,
             "#46039f"
            ],
            [
             0.2222222222222222,
             "#7201a8"
            ],
            [
             0.3333333333333333,
             "#9c179e"
            ],
            [
             0.4444444444444444,
             "#bd3786"
            ],
            [
             0.5555555555555556,
             "#d8576b"
            ],
            [
             0.6666666666666666,
             "#ed7953"
            ],
            [
             0.7777777777777778,
             "#fb9f3a"
            ],
            [
             0.8888888888888888,
             "#fdca26"
            ],
            [
             1,
             "#f0f921"
            ]
           ],
           "sequentialminus": [
            [
             0,
             "#0d0887"
            ],
            [
             0.1111111111111111,
             "#46039f"
            ],
            [
             0.2222222222222222,
             "#7201a8"
            ],
            [
             0.3333333333333333,
             "#9c179e"
            ],
            [
             0.4444444444444444,
             "#bd3786"
            ],
            [
             0.5555555555555556,
             "#d8576b"
            ],
            [
             0.6666666666666666,
             "#ed7953"
            ],
            [
             0.7777777777777778,
             "#fb9f3a"
            ],
            [
             0.8888888888888888,
             "#fdca26"
            ],
            [
             1,
             "#f0f921"
            ]
           ]
          },
          "colorway": [
           "#636efa",
           "#EF553B",
           "#00cc96",
           "#ab63fa",
           "#FFA15A",
           "#19d3f3",
           "#FF6692",
           "#B6E880",
           "#FF97FF",
           "#FECB52"
          ],
          "font": {
           "color": "#2a3f5f"
          },
          "geo": {
           "bgcolor": "white",
           "lakecolor": "white",
           "landcolor": "#E5ECF6",
           "showlakes": true,
           "showland": true,
           "subunitcolor": "white"
          },
          "hoverlabel": {
           "align": "left"
          },
          "hovermode": "closest",
          "mapbox": {
           "style": "light"
          },
          "paper_bgcolor": "white",
          "plot_bgcolor": "#E5ECF6",
          "polar": {
           "angularaxis": {
            "gridcolor": "white",
            "linecolor": "white",
            "ticks": ""
           },
           "bgcolor": "#E5ECF6",
           "radialaxis": {
            "gridcolor": "white",
            "linecolor": "white",
            "ticks": ""
           }
          },
          "scene": {
           "xaxis": {
            "backgroundcolor": "#E5ECF6",
            "gridcolor": "white",
            "gridwidth": 2,
            "linecolor": "white",
            "showbackground": true,
            "ticks": "",
            "zerolinecolor": "white"
           },
           "yaxis": {
            "backgroundcolor": "#E5ECF6",
            "gridcolor": "white",
            "gridwidth": 2,
            "linecolor": "white",
            "showbackground": true,
            "ticks": "",
            "zerolinecolor": "white"
           },
           "zaxis": {
            "backgroundcolor": "#E5ECF6",
            "gridcolor": "white",
            "gridwidth": 2,
            "linecolor": "white",
            "showbackground": true,
            "ticks": "",
            "zerolinecolor": "white"
           }
          },
          "shapedefaults": {
           "line": {
            "color": "#2a3f5f"
           }
          },
          "ternary": {
           "aaxis": {
            "gridcolor": "white",
            "linecolor": "white",
            "ticks": ""
           },
           "baxis": {
            "gridcolor": "white",
            "linecolor": "white",
            "ticks": ""
           },
           "bgcolor": "#E5ECF6",
           "caxis": {
            "gridcolor": "white",
            "linecolor": "white",
            "ticks": ""
           }
          },
          "title": {
           "x": 0.05
          },
          "xaxis": {
           "automargin": true,
           "gridcolor": "white",
           "linecolor": "white",
           "ticks": "",
           "title": {
            "standoff": 15
           },
           "zerolinecolor": "white",
           "zerolinewidth": 2
          },
          "yaxis": {
           "automargin": true,
           "gridcolor": "white",
           "linecolor": "white",
           "ticks": "",
           "title": {
            "standoff": 15
           },
           "zerolinecolor": "white",
           "zerolinewidth": 2
          }
         }
        },
        "title": {
         "text": "Relação entre Educação Secundária e PIB per Capita"
        },
        "xaxis": {
         "anchor": "y",
         "domain": [
          0,
          1
         ],
         "title": {
          "text": "secondary_school_enrollment"
         }
        },
        "yaxis": {
         "anchor": "x",
         "domain": [
          0,
          1
         ],
         "title": {
          "text": "gdp_per_capita_ppp"
         },
         "type": "log"
        }
       }
      }
     },
     "metadata": {},
     "output_type": "display_data"
    },
    {
     "data": {
      "application/vnd.plotly.v1+json": {
       "config": {
        "plotlyServerURL": "https://plot.ly"
       },
       "data": [
        {
         "legendgroup": "USA",
         "name": "USA - PIB",
         "showlegend": true,
         "type": "scatter",
         "x": {
          "bdata": "0AfRB9IH0wfUB9UH1gfXB9gH2QfaB9sH3AfdB94H3wfgB+EH4gfjB+QH5QfmBw==",
          "dtype": "i2"
         },
         "xaxis": "x",
         "y": {
          "bdata": "ZOof2YII1kD6zi005tjWQBwwSXVvHdVApHMcUuRW1EDI9USnlGjWQAo1bu6+TddA5CtUXfCw2EAt6KFf9KPWQOkX4lFl29lARS2+ArOE2EBhElI5Ff/ZQGCvMXTyZdpARp03qfiZ2UABnO6MfyDcQFU76oBFottAWXtwlAkd3EBBSRzMwB/aQLlbxDkDI9xAO1fhlo7e3UC6JebYFvDeQFgCIfPW5dxAeruIC2Bc3UC4WMVdiwLfQA==",
          "dtype": "f8"
         },
         "yaxis": "y"
        },
        {
         "legendgroup": "USA",
         "name": "USA - Educação",
         "showlegend": false,
         "type": "scatter",
         "x": {
          "bdata": "0AfRB9IH0wfUB9UH1gfXB9gH2QfaB9sH3AfdB94H3wfgB+EH4gfjB+QH5QfmBw==",
          "dtype": "i2"
         },
         "xaxis": "x2",
         "y": {
          "bdata": "iSJ5GjtGVUCa0bJGvuFVQJqHtrAjl1RArhagPRJ8VkAYygwVAihVQLsf13qPFVZAu6w8jtq4VUDfGXutLMlWQDx43rABg1ZAOPgU+TPgVEDAlDICEWtWQDpbg8NGKFVAQdUAciH6VEDlqTTuoDJWQJ39GCOrBVVAA8G5zBn8VEB95B7jELNVQFYEJXfpOlRAKTtgiKZEVkDfeHGKwg9WQPl1oPBbbVZAgDXGyhbYVUDQeuct2k9VQA==",
          "dtype": "f8"
         },
         "yaxis": "y2"
        },
        {
         "legendgroup": "USA",
         "name": "USA - Gasto",
         "showlegend": false,
         "type": "scatter",
         "x": {
          "bdata": "0AfRB9IH0wfUB9UH1gfXB9gH2QfaB9sH3AfdB94H3wfgB+EH4gfjB+QH5QfmBw==",
          "dtype": "i2"
         },
         "xaxis": "x3",
         "y": {
          "bdata": "eao6gaE9DkBWYBbrD1YPQBo0b9XH1xFAmKNAwirSDkCcQZrpRa8ZQCkVhY6/ZhZAFSvayCmKC0BWxWmgPwscQHvQA3jnbBtAuDCqSPCAEkAq6M0tODcbQFshvcbhKxZAKpaPTg2YHkDWB+TJ/OsdQG7C0pcwRwhAhHSCAnUPGkDNjf4hYrIRQMuUnoX/yRVADv4stQxbE0B6RY7/26kIQGwiGLsOvB5AoKXKzqAaF0BIerIg1ccSQA==",
          "dtype": "f8"
         },
         "yaxis": "y3"
        },
        {
         "legendgroup": "China",
         "name": "China - PIB",
         "showlegend": false,
         "type": "scatter",
         "x": {
          "bdata": "0AfRB9IH0wfUB9UH1gfXB9gH2QfaB9sH3AfdB94H3wfgB+EH4gfjB+QH5QfmBw==",
          "dtype": "i2"
         },
         "xaxis": "x",
         "y": {
          "bdata": "nZYlkaxqwEDFu9Hu1xrDQPNl4HU2B8FA3ifxXM0fwkDdkb2gxP7CQJQCV/1gr8JAO+YF0fLaw0ApWiRSC87CQE9X2bpV88NATKqWAVG9xECiuo1/er7EQBECB4v6h8RAULxyAb5jxUDwFaltAA7FQHcku/clZMdAOAIFYFoBxUAgQnkvKELIQGujWEpR/sdAeJTJLw9kx0BM1VaTROzHQNpD0BhfoMdATdy0pWsCyUD9MZ0MB6rHQA==",
          "dtype": "f8"
         },
         "yaxis": "y"
        },
        {
         "legendgroup": "China",
         "name": "China - Educação",
         "showlegend": false,
         "type": "scatter",
         "x": {
          "bdata": "0AfRB9IH0wfUB9UH1gfXB9gH2QfaB9sH3AfdB94H3wfgB+EH4gfjB+QH5QfmBw==",
          "dtype": "i2"
         },
         "xaxis": "x2",
         "y": {
          "bdata": "q3RkDCqNUUBcrHq80CdRQHpHvEoTnlFAKouCdsC6UECjU5WMnUFQQAAAAAAAAE5AivssgV7JUEDCUHqe5Q5QQAAAAAAAAE5AT+L2Pw6nUEDYe5W/0GVQQGZxSOo9n1FAysl7rOV8UECMAKb8749QQP1q6Pk/QU9AO/23fKMEUUCc0+wQgklOQIO79cqnoU9AKvLcjlkVUEDplVH9BcRRQO7NXp8eRVBAAAAAAAAATkAAHTePYedQQA==",
          "dtype": "f8"
         },
         "yaxis": "y2"
        },
        {
         "legendgroup": "China",
         "name": "China - Gasto",
         "showlegend": false,
         "type": "scatter",
         "x": {
          "bdata": "0AfRB9IH0wfUB9UH1gfXB9gH2QfaB9sH3AfdB94H3wfgB+EH4gfjB+QH5QfmBw==",
          "dtype": "i2"
         },
         "xaxis": "x3",
         "y": {
          "bdata": "nYXchC1eCEDpc3ypCgoZQMo523O9XRdAOufDQkfXHUDGv9fY/vgIQJTuw5dGnghAQZS2AqRWEkAniK1F1kwYQPL4I9THMxxAEPF9BhIKGkDPYPQsV9oWQBMdooIZFQ1AxYvYHqS/GEDyL9yeiMcUQEF+GPVCmRFAoohlgpQeE0AJdF8KJ1EYQKC8teqCLBlAkjWN1o7pFkAxU0fF+NgKQEkUGR6ojB1AK0FU5mLPH0CceJhvQhcbQA==",
          "dtype": "f8"
         },
         "yaxis": "y3"
        },
        {
         "legendgroup": "Brazil",
         "name": "Brazil - PIB",
         "showlegend": false,
         "type": "scatter",
         "x": {
          "bdata": "0AfRB9IH0wfUB9UH1gfXB9gH2QfaB9sH3AfdB94H3wfgB+EH4gfjB+QH5QfmBw==",
          "dtype": "i2"
         },
         "xaxis": "x",
         "y": {
          "bdata": "MLR/NYQIvkDfnWnzmgHAQOmfmNPMysBA4w3yBKlrwUAzvv9TURTDQPH9xT1/bsNAtiQblvYXw0DCSP92zY3DQP4+NcB8l8NAXT0cVhdbw0CYrhRg8RTEQPMF9TahiMVArosaloGsxUCCaNwHH6XFQIcXKHVubcVAQyKotXINxkDQzZ701hLHQL3S6/Z+3sZAg7lI5o1cxkD+WW42NwTHQCZPE6SmjshAd8edx/JOyECiiIgbLHPIQA==",
          "dtype": "f8"
         },
         "yaxis": "y"
        },
        {
         "legendgroup": "Brazil",
         "name": "Brazil - Educação",
         "showlegend": false,
         "type": "scatter",
         "x": {
          "bdata": "0AfRB9IH0wfUB9UH1gfXB9gH2QfaB9sH3AfdB94H3wfgB+EH4gfjB+QH5QfmBw==",
          "dtype": "i2"
         },
         "xaxis": "x2",
         "y": {
          "bdata": "EE5O8POXVUBA3Rb/f41UQL1IRHGsdlRAsHwcisLGVEDo6VUMDctVQGlncRQsyVVAuBrgcJK5VUB3dZQSe2VUQNFQYmQuClVAFNmv6vObVEBAm6JD0bdUQDk8i67abVVAmaTUc1Y+VkBYcm4dXCtUQJBB4JazvVVATpVr1fbiVEDf/oKFJE1WQJ0KOhmh9VNAqe3rQMeAVkAx2ZHCfT5VQFDm39ltplRA++x3S1QVVEAleooiOCVVQA==",
          "dtype": "f8"
         },
         "yaxis": "y2"
        },
        {
         "legendgroup": "Brazil",
         "name": "Brazil - Gasto",
         "showlegend": false,
         "type": "scatter",
         "x": {
          "bdata": "0AfRB9IH0wfUB9UH1gfXB9gH2QfaB9sH3AfdB94H3wfgB+EH4gfjB+QH5QfmBw==",
          "dtype": "i2"
         },
         "xaxis": "x3",
         "y": {
          "bdata": "CkL+8Bb3GkBaIc2ALUAVQMMdQ/By2RBAWoQqPl3KDED3YXdtpugaQObgvhk3HxNA58CD8K+zEUBAqXtCR3sMQGtsVkKgIhdAvTJXE/cmFkByndhKrBIKQAzZWJnCFxFAn2nlm9M/D0AqtP/1VAgQQEI/oTf9VBxAlW7j0u2kEECx+rt8t7ISQHQTw5gmEQ5AG1nXX9ZsHEA3u4VjxJUQQCw321FEKx5AMILAaCYeFkAbMtvy/xkOQA==",
          "dtype": "f8"
         },
         "yaxis": "y3"
        },
        {
         "legendgroup": "Germany",
         "name": "Germany - PIB",
         "showlegend": false,
         "type": "scatter",
         "x": {
          "bdata": "0AfRB9IH0wfUB9UH1gfXB9gH2QfaB9sH3AfdB94H3wfgB+EH4gfjB+QH5QfmBw==",
          "dtype": "i2"
         },
         "xaxis": "x",
         "y": {
          "bdata": "ZPo/kdTV5UCrUc+BfgjoQECVm3O3l+dA230u7cfV5kCVfdPC88PrQAwGD20pC+pAM/vFd+ko60DdBPJdM+XpQDn8dRzyeetA89qLxgj16kCWqMaOXz/sQE2fFMR7De5AA7HI9UG67ECY/KYluejsQM+BmC67yOxA7DJhRVR/7kBaTWT285rtQL6YU/WsAu9AjJ4r+YNB7kBJ22G70vTtQMNyysKffPBAWFhx9wfY8EBuXe05ygTxQA==",
          "dtype": "f8"
         },
         "yaxis": "y"
        },
        {
         "legendgroup": "Germany",
         "name": "Germany - Educação",
         "showlegend": false,
         "type": "scatter",
         "x": {
          "bdata": "0AfRB9IH0wfUB9UH1gfXB9gH2QfaB9sH3AfdB94H3wfgB+EH4gfjB+QH5QfmBw==",
          "dtype": "i2"
         },
         "xaxis": "x2",
         "y": {
          "bdata": "0qehZaPAVkA00Qwo57NUQJZC8KOnrVVAlCebuZudVkDVNK3MshdUQMv86VySPFRA/IiCZjSCVEB/3HcyfedUQDfIw1n9VFZARb6LtOcuVEAeW9e/k6lTQIziownESlRAk1Olzho3VUC26n3VerdWQFFLKWFbh1RADKBai2cTV0DOM6JFDgxVQGD/IQr/3lRA039ajXnnVkB0R7PengdVQFqquJuitVRAIhB7W/luVEDSCx/UHH9TQA==",
          "dtype": "f8"
         },
         "yaxis": "y2"
        },
        {
         "legendgroup": "Germany",
         "name": "Germany - Gasto",
         "showlegend": false,
         "type": "scatter",
         "x": {
          "bdata": "0AfRB9IH0wfUB9UH1gfXB9gH2QfaB9sH3AfdB94H3wfgB+EH4gfjB+QH5QfmBw==",
          "dtype": "i2"
         },
         "xaxis": "x3",
         "y": {
          "bdata": "4e5pDmOyH0DOsU4nqWUeQNa6PTpgog1AwcAlFq44H0Azkfz13K4KQI9geEHboApA+NCD/ag1DkAD7jKqAD8OQKap+f3VyQhAVGKEeSodHUBWjCrDI4UIQG+eE2B8XBFArQvzYqlFG0DoiAuMYigRQEjoHA5SvAhA1FW83vxMGUDzCsvfvaYOQLOoBmBD8RFArv+yt1A/CUCt+MEvaQELQEh/gWEC/RtAtDrlaIjWFkAgJ0LaTP4QQA==",
          "dtype": "f8"
         },
         "yaxis": "y3"
        },
        {
         "legendgroup": "India",
         "name": "India - PIB",
         "showlegend": false,
         "type": "scatter",
         "x": {
          "bdata": "0AfRB9IH0wfUB9UH1gfXB9gH2QfaB9sH3AfdB94H3wfgB+EH4gfjB+QH5QfmBw==",
          "dtype": "i2"
         },
         "xaxis": "x",
         "y": {
          "bdata": "eG7baS1B00Bb+Bud6lXUQAdxgPYSodRAsUAuXOpe1UA/OFkhXMjTQKcaPvRjVNZA39rgYj8e1UCqCGKsogjWQNBLMRGXWtdAbwMCRBwU2EAcqBsLjwTWQBIy32eXdddAmwa9M72c2EDNHEDskNXWQKLeYmr8QdhA+SMDs+Qd10DTZnLBvyDaQOZynFsHjNlAyKAqI8ml2EDM3ThHRhfYQDaGIDVpStlA97ioFhFe20BVkAV/2C7bQA==",
          "dtype": "f8"
         },
         "yaxis": "y"
        },
        {
         "legendgroup": "India",
         "name": "India - Educação",
         "showlegend": false,
         "type": "scatter",
         "x": {
          "bdata": "0AfRB9IH0wfUB9UH1gfXB9gH2QfaB9sH3AfdB94H3wfgB+EH4gfjB+QH5QfmBw==",
          "dtype": "i2"
         },
         "xaxis": "x2",
         "y": {
          "bdata": "CGYMlYxaVkAYbGb1yZ9WQF6aZnyhklZAA4kztCq+VkCy478Q9ztTQFF6W01kM1ZAzJZSrGLwU0C+zEm2b9NWQEaE5m2w3VRAZFX1ojhQVkAJWzVUH4dTQE4NvPzX7FRA/AEnH9S2VUD2vTbqVO1VQDhzw24MClZATQHocGUBV0B+CWFo8wVWQCAhcIvcnVZAxCL+XduoVEDSLQji3sRVQMd5Ox+XGlVAjzTh88XbVUCKWW4XSNJUQA==",
          "dtype": "f8"
         },
         "yaxis": "y2"
        },
        {
         "legendgroup": "India",
         "name": "India - Gasto",
         "showlegend": false,
         "type": "scatter",
         "x": {
          "bdata": "0AfRB9IH0wfUB9UH1gfXB9gH2QfaB9sH3AfdB94H3wfgB+EH4gfjB+QH5QfmBw==",
          "dtype": "i2"
         },
         "xaxis": "x3",
         "y": {
          "bdata": "O9C0zBsDH0AKnshK2MobQG67Q1OvBBNAuA6R8gJBC0B86XEB/oobQGkC1gmywAxA6gy1i9i2EUDrO0zR+tsfQANVfRBAFxVAi9LWMhRnGEAvXibD5nwfQID1NINnXRRARJV2kdq+H0AEwAge2HcRQKO3UC83YRtATPOrCcspE0DSgOtUwwkXQEQEwmJgQhBA4+RQ4koVHkAaZKoVNioRQHmyrynXCAtAW+QboH6iCUCOTDy7bSAQQA==",
          "dtype": "f8"
         },
         "yaxis": "y3"
        },
        {
         "mode": "lines+markers",
         "name": "USA",
         "showlegend": false,
         "type": "scatter",
         "x": [
          0,
          1,
          2,
          3,
          4,
          5
         ],
         "xaxis": "x4",
         "y": [
          0.006964828305188797,
          0.06674904479864746,
          -0.07366313054196352,
          0.03286696374004485,
          -0.22682924828663253,
          -0.09508462002658581
         ],
         "yaxis": "y4"
        },
        {
         "mode": "lines+markers",
         "name": "China",
         "showlegend": false,
         "type": "scatter",
         "x": [
          0,
          1,
          2,
          3,
          4,
          5
         ],
         "xaxis": "x4",
         "y": [
          -0.3579802982326625,
          -0.2673737207420084,
          -0.20475746259691832,
          -0.1827493685160228,
          -0.3870164205347894,
          -0.3042766555494704
         ],
         "yaxis": "y4"
        },
        {
         "mode": "lines+markers",
         "name": "Brazil",
         "showlegend": false,
         "type": "scatter",
         "x": [
          0,
          1,
          2,
          3,
          4,
          5
         ],
         "xaxis": "x4",
         "y": [
          0.014217598463758222,
          0.017207619222250684,
          0.08675606912218659,
          0.03900717402826969,
          0.14749358225134693,
          0.0425576255561361
         ],
         "yaxis": "y4"
        },
        {
         "mode": "lines+markers",
         "name": "Germany",
         "showlegend": false,
         "type": "scatter",
         "x": [
          0,
          1,
          2,
          3,
          4,
          5
         ],
         "xaxis": "x4",
         "y": [
          -0.30997338981036016,
          -0.1658711946736502,
          0.06402900577448477,
          0.052121620455279176,
          0.14268542263682918,
          -0.028592316352584954
         ],
         "yaxis": "y4"
        },
        {
         "mode": "lines+markers",
         "name": "India",
         "showlegend": false,
         "type": "scatter",
         "x": [
          0,
          1,
          2,
          3,
          4,
          5
         ],
         "xaxis": "x4",
         "y": [
          0.029687671797274252,
          -0.11565478881226242,
          -0.05003912453020425,
          -0.11749712909547418,
          -0.11113457389803857,
          0.044058871905757344
         ],
         "yaxis": "y4"
        }
       ],
       "layout": {
        "annotations": [
         {
          "font": {
           "size": 16
          },
          "showarrow": false,
          "text": "PIB per Capita",
          "x": 0.225,
          "xanchor": "center",
          "xref": "paper",
          "y": 1,
          "yanchor": "bottom",
          "yref": "paper"
         },
         {
          "font": {
           "size": 16
          },
          "showarrow": false,
          "text": "Matrícula Secundária",
          "x": 0.775,
          "xanchor": "center",
          "xref": "paper",
          "y": 1,
          "yanchor": "bottom",
          "yref": "paper"
         },
         {
          "font": {
           "size": 16
          },
          "showarrow": false,
          "text": "Gasto em Educação",
          "x": 0.225,
          "xanchor": "center",
          "xref": "paper",
          "y": 0.375,
          "yanchor": "bottom",
          "yref": "paper"
         },
         {
          "font": {
           "size": 16
          },
          "showarrow": false,
          "text": "Correlação com Lag",
          "x": 0.775,
          "xanchor": "center",
          "xref": "paper",
          "y": 0.375,
          "yanchor": "bottom",
          "yref": "paper"
         }
        ],
        "height": 800,
        "template": {
         "data": {
          "bar": [
           {
            "error_x": {
             "color": "#2a3f5f"
            },
            "error_y": {
             "color": "#2a3f5f"
            },
            "marker": {
             "line": {
              "color": "#E5ECF6",
              "width": 0.5
             },
             "pattern": {
              "fillmode": "overlay",
              "size": 10,
              "solidity": 0.2
             }
            },
            "type": "bar"
           }
          ],
          "barpolar": [
           {
            "marker": {
             "line": {
              "color": "#E5ECF6",
              "width": 0.5
             },
             "pattern": {
              "fillmode": "overlay",
              "size": 10,
              "solidity": 0.2
             }
            },
            "type": "barpolar"
           }
          ],
          "carpet": [
           {
            "aaxis": {
             "endlinecolor": "#2a3f5f",
             "gridcolor": "white",
             "linecolor": "white",
             "minorgridcolor": "white",
             "startlinecolor": "#2a3f5f"
            },
            "baxis": {
             "endlinecolor": "#2a3f5f",
             "gridcolor": "white",
             "linecolor": "white",
             "minorgridcolor": "white",
             "startlinecolor": "#2a3f5f"
            },
            "type": "carpet"
           }
          ],
          "choropleth": [
           {
            "colorbar": {
             "outlinewidth": 0,
             "ticks": ""
            },
            "type": "choropleth"
           }
          ],
          "contour": [
           {
            "colorbar": {
             "outlinewidth": 0,
             "ticks": ""
            },
            "colorscale": [
             [
              0,
              "#0d0887"
             ],
             [
              0.1111111111111111,
              "#46039f"
             ],
             [
              0.2222222222222222,
              "#7201a8"
             ],
             [
              0.3333333333333333,
              "#9c179e"
             ],
             [
              0.4444444444444444,
              "#bd3786"
             ],
             [
              0.5555555555555556,
              "#d8576b"
             ],
             [
              0.6666666666666666,
              "#ed7953"
             ],
             [
              0.7777777777777778,
              "#fb9f3a"
             ],
             [
              0.8888888888888888,
              "#fdca26"
             ],
             [
              1,
              "#f0f921"
             ]
            ],
            "type": "contour"
           }
          ],
          "contourcarpet": [
           {
            "colorbar": {
             "outlinewidth": 0,
             "ticks": ""
            },
            "type": "contourcarpet"
           }
          ],
          "heatmap": [
           {
            "colorbar": {
             "outlinewidth": 0,
             "ticks": ""
            },
            "colorscale": [
             [
              0,
              "#0d0887"
             ],
             [
              0.1111111111111111,
              "#46039f"
             ],
             [
              0.2222222222222222,
              "#7201a8"
             ],
             [
              0.3333333333333333,
              "#9c179e"
             ],
             [
              0.4444444444444444,
              "#bd3786"
             ],
             [
              0.5555555555555556,
              "#d8576b"
             ],
             [
              0.6666666666666666,
              "#ed7953"
             ],
             [
              0.7777777777777778,
              "#fb9f3a"
             ],
             [
              0.8888888888888888,
              "#fdca26"
             ],
             [
              1,
              "#f0f921"
             ]
            ],
            "type": "heatmap"
           }
          ],
          "histogram": [
           {
            "marker": {
             "pattern": {
              "fillmode": "overlay",
              "size": 10,
              "solidity": 0.2
             }
            },
            "type": "histogram"
           }
          ],
          "histogram2d": [
           {
            "colorbar": {
             "outlinewidth": 0,
             "ticks": ""
            },
            "colorscale": [
             [
              0,
              "#0d0887"
             ],
             [
              0.1111111111111111,
              "#46039f"
             ],
             [
              0.2222222222222222,
              "#7201a8"
             ],
             [
              0.3333333333333333,
              "#9c179e"
             ],
             [
              0.4444444444444444,
              "#bd3786"
             ],
             [
              0.5555555555555556,
              "#d8576b"
             ],
             [
              0.6666666666666666,
              "#ed7953"
             ],
             [
              0.7777777777777778,
              "#fb9f3a"
             ],
             [
              0.8888888888888888,
              "#fdca26"
             ],
             [
              1,
              "#f0f921"
             ]
            ],
            "type": "histogram2d"
           }
          ],
          "histogram2dcontour": [
           {
            "colorbar": {
             "outlinewidth": 0,
             "ticks": ""
            },
            "colorscale": [
             [
              0,
              "#0d0887"
             ],
             [
              0.1111111111111111,
              "#46039f"
             ],
             [
              0.2222222222222222,
              "#7201a8"
             ],
             [
              0.3333333333333333,
              "#9c179e"
             ],
             [
              0.4444444444444444,
              "#bd3786"
             ],
             [
              0.5555555555555556,
              "#d8576b"
             ],
             [
              0.6666666666666666,
              "#ed7953"
             ],
             [
              0.7777777777777778,
              "#fb9f3a"
             ],
             [
              0.8888888888888888,
              "#fdca26"
             ],
             [
              1,
              "#f0f921"
             ]
            ],
            "type": "histogram2dcontour"
           }
          ],
          "mesh3d": [
           {
            "colorbar": {
             "outlinewidth": 0,
             "ticks": ""
            },
            "type": "mesh3d"
           }
          ],
          "parcoords": [
           {
            "line": {
             "colorbar": {
              "outlinewidth": 0,
              "ticks": ""
             }
            },
            "type": "parcoords"
           }
          ],
          "pie": [
           {
            "automargin": true,
            "type": "pie"
           }
          ],
          "scatter": [
           {
            "fillpattern": {
             "fillmode": "overlay",
             "size": 10,
             "solidity": 0.2
            },
            "type": "scatter"
           }
          ],
          "scatter3d": [
           {
            "line": {
             "colorbar": {
              "outlinewidth": 0,
              "ticks": ""
             }
            },
            "marker": {
             "colorbar": {
              "outlinewidth": 0,
              "ticks": ""
             }
            },
            "type": "scatter3d"
           }
          ],
          "scattercarpet": [
           {
            "marker": {
             "colorbar": {
              "outlinewidth": 0,
              "ticks": ""
             }
            },
            "type": "scattercarpet"
           }
          ],
          "scattergeo": [
           {
            "marker": {
             "colorbar": {
              "outlinewidth": 0,
              "ticks": ""
             }
            },
            "type": "scattergeo"
           }
          ],
          "scattergl": [
           {
            "marker": {
             "colorbar": {
              "outlinewidth": 0,
              "ticks": ""
             }
            },
            "type": "scattergl"
           }
          ],
          "scattermap": [
           {
            "marker": {
             "colorbar": {
              "outlinewidth": 0,
              "ticks": ""
             }
            },
            "type": "scattermap"
           }
          ],
          "scattermapbox": [
           {
            "marker": {
             "colorbar": {
              "outlinewidth": 0,
              "ticks": ""
             }
            },
            "type": "scattermapbox"
           }
          ],
          "scatterpolar": [
           {
            "marker": {
             "colorbar": {
              "outlinewidth": 0,
              "ticks": ""
             }
            },
            "type": "scatterpolar"
           }
          ],
          "scatterpolargl": [
           {
            "marker": {
             "colorbar": {
              "outlinewidth": 0,
              "ticks": ""
             }
            },
            "type": "scatterpolargl"
           }
          ],
          "scatterternary": [
           {
            "marker": {
             "colorbar": {
              "outlinewidth": 0,
              "ticks": ""
             }
            },
            "type": "scatterternary"
           }
          ],
          "surface": [
           {
            "colorbar": {
             "outlinewidth": 0,
             "ticks": ""
            },
            "colorscale": [
             [
              0,
              "#0d0887"
             ],
             [
              0.1111111111111111,
              "#46039f"
             ],
             [
              0.2222222222222222,
              "#7201a8"
             ],
             [
              0.3333333333333333,
              "#9c179e"
             ],
             [
              0.4444444444444444,
              "#bd3786"
             ],
             [
              0.5555555555555556,
              "#d8576b"
             ],
             [
              0.6666666666666666,
              "#ed7953"
             ],
             [
              0.7777777777777778,
              "#fb9f3a"
             ],
             [
              0.8888888888888888,
              "#fdca26"
             ],
             [
              1,
              "#f0f921"
             ]
            ],
            "type": "surface"
           }
          ],
          "table": [
           {
            "cells": {
             "fill": {
              "color": "#EBF0F8"
             },
             "line": {
              "color": "white"
             }
            },
            "header": {
             "fill": {
              "color": "#C8D4E3"
             },
             "line": {
              "color": "white"
             }
            },
            "type": "table"
           }
          ]
         },
         "layout": {
          "annotationdefaults": {
           "arrowcolor": "#2a3f5f",
           "arrowhead": 0,
           "arrowwidth": 1
          },
          "autotypenumbers": "strict",
          "coloraxis": {
           "colorbar": {
            "outlinewidth": 0,
            "ticks": ""
           }
          },
          "colorscale": {
           "diverging": [
            [
             0,
             "#8e0152"
            ],
            [
             0.1,
             "#c51b7d"
            ],
            [
             0.2,
             "#de77ae"
            ],
            [
             0.3,
             "#f1b6da"
            ],
            [
             0.4,
             "#fde0ef"
            ],
            [
             0.5,
             "#f7f7f7"
            ],
            [
             0.6,
             "#e6f5d0"
            ],
            [
             0.7,
             "#b8e186"
            ],
            [
             0.8,
             "#7fbc41"
            ],
            [
             0.9,
             "#4d9221"
            ],
            [
             1,
             "#276419"
            ]
           ],
           "sequential": [
            [
             0,
             "#0d0887"
            ],
            [
             0.1111111111111111,
             "#46039f"
            ],
            [
             0.2222222222222222,
             "#7201a8"
            ],
            [
             0.3333333333333333,
             "#9c179e"
            ],
            [
             0.4444444444444444,
             "#bd3786"
            ],
            [
             0.5555555555555556,
             "#d8576b"
            ],
            [
             0.6666666666666666,
             "#ed7953"
            ],
            [
             0.7777777777777778,
             "#fb9f3a"
            ],
            [
             0.8888888888888888,
             "#fdca26"
            ],
            [
             1,
             "#f0f921"
            ]
           ],
           "sequentialminus": [
            [
             0,
             "#0d0887"
            ],
            [
             0.1111111111111111,
             "#46039f"
            ],
            [
             0.2222222222222222,
             "#7201a8"
            ],
            [
             0.3333333333333333,
             "#9c179e"
            ],
            [
             0.4444444444444444,
             "#bd3786"
            ],
            [
             0.5555555555555556,
             "#d8576b"
            ],
            [
             0.6666666666666666,
             "#ed7953"
            ],
            [
             0.7777777777777778,
             "#fb9f3a"
            ],
            [
             0.8888888888888888,
             "#fdca26"
            ],
            [
             1,
             "#f0f921"
            ]
           ]
          },
          "colorway": [
           "#636efa",
           "#EF553B",
           "#00cc96",
           "#ab63fa",
           "#FFA15A",
           "#19d3f3",
           "#FF6692",
           "#B6E880",
           "#FF97FF",
           "#FECB52"
          ],
          "font": {
           "color": "#2a3f5f"
          },
          "geo": {
           "bgcolor": "white",
           "lakecolor": "white",
           "landcolor": "#E5ECF6",
           "showlakes": true,
           "showland": true,
           "subunitcolor": "white"
          },
          "hoverlabel": {
           "align": "left"
          },
          "hovermode": "closest",
          "mapbox": {
           "style": "light"
          },
          "paper_bgcolor": "white",
          "plot_bgcolor": "#E5ECF6",
          "polar": {
           "angularaxis": {
            "gridcolor": "white",
            "linecolor": "white",
            "ticks": ""
           },
           "bgcolor": "#E5ECF6",
           "radialaxis": {
            "gridcolor": "white",
            "linecolor": "white",
            "ticks": ""
           }
          },
          "scene": {
           "xaxis": {
            "backgroundcolor": "#E5ECF6",
            "gridcolor": "white",
            "gridwidth": 2,
            "linecolor": "white",
            "showbackground": true,
            "ticks": "",
            "zerolinecolor": "white"
           },
           "yaxis": {
            "backgroundcolor": "#E5ECF6",
            "gridcolor": "white",
            "gridwidth": 2,
            "linecolor": "white",
            "showbackground": true,
            "ticks": "",
            "zerolinecolor": "white"
           },
           "zaxis": {
            "backgroundcolor": "#E5ECF6",
            "gridcolor": "white",
            "gridwidth": 2,
            "linecolor": "white",
            "showbackground": true,
            "ticks": "",
            "zerolinecolor": "white"
           }
          },
          "shapedefaults": {
           "line": {
            "color": "#2a3f5f"
           }
          },
          "ternary": {
           "aaxis": {
            "gridcolor": "white",
            "linecolor": "white",
            "ticks": ""
           },
           "baxis": {
            "gridcolor": "white",
            "linecolor": "white",
            "ticks": ""
           },
           "bgcolor": "#E5ECF6",
           "caxis": {
            "gridcolor": "white",
            "linecolor": "white",
            "ticks": ""
           }
          },
          "title": {
           "x": 0.05
          },
          "xaxis": {
           "automargin": true,
           "gridcolor": "white",
           "linecolor": "white",
           "ticks": "",
           "title": {
            "standoff": 15
           },
           "zerolinecolor": "white",
           "zerolinewidth": 2
          },
          "yaxis": {
           "automargin": true,
           "gridcolor": "white",
           "linecolor": "white",
           "ticks": "",
           "title": {
            "standoff": 15
           },
           "zerolinecolor": "white",
           "zerolinewidth": 2
          }
         }
        },
        "title": {
         "text": "Tendências e Relações Temporais"
        },
        "xaxis": {
         "anchor": "y",
         "domain": [
          0,
          0.45
         ]
        },
        "xaxis2": {
         "anchor": "y2",
         "domain": [
          0.55,
          1
         ]
        },
        "xaxis3": {
         "anchor": "y3",
         "domain": [
          0,
          0.45
         ]
        },
        "xaxis4": {
         "anchor": "y4",
         "domain": [
          0.55,
          1
         ]
        },
        "yaxis": {
         "anchor": "x",
         "domain": [
          0.625,
          1
         ]
        },
        "yaxis2": {
         "anchor": "x2",
         "domain": [
          0.625,
          1
         ]
        },
        "yaxis3": {
         "anchor": "x3",
         "domain": [
          0,
          0.375
         ]
        },
        "yaxis4": {
         "anchor": "x4",
         "domain": [
          0,
          0.375
         ]
        }
       }
      }
     },
     "metadata": {},
     "output_type": "display_data"
    },
    {
     "name": "stdout",
     "output_type": "stream",
     "text": [
      "2. PREPARAÇÃO DE DADOS PARA RELATÓRIOS\n",
      "Estatísticas Resumidas para Relatório Executivo:\n",
      "        gdp_per_capita_ppp  education_expenditure  secondary_school_enrollment\n",
      "mean              44278.52                   4.82                        74.15\n",
      "median            47946.74                   4.53                        72.40\n",
      "std               18746.16                   1.29                         9.00\n",
      "\n",
      "PRINCIPAIS DESCOBERTAS:\n",
      "1. Não foi encontrada correlação significativa entre educação secundária e PIB per capita.\n",
      "2. Existem diferenças regionais significativas no PIB per capita, com Oceania apresentando o maior valor médio.\n",
      "3. A análise temporal sugere que investimentos em educação podem anteceder crescimento econômico em vários países.\n",
      "\n",
      "RECOMENDAÇÕES PARA POLÍTICAS PÚBLICAS:\n",
      "- Priorizar investimentos em educação secundária e terciária\n",
      "- Desenvolver políticas regionais específicas considerando contextos locais\n",
      "- Implementar programas de monitoramento de longo prazo para avaliar impacto\n",
      "- Considerar a educação como investimento estratégico para desenvolvimento econômico\n",
      "\n",
      "Salvando dados processados...\n",
      "Análise concluída. Use os resultados para gerar relatórios executivos e técnicos.\n"
     ]
    }
   ],
   "source": [
    "# Visualizações interativas e preparação para relatórios\n",
    "print(\"=== VISUALIZAÇÕES AVANÇADAS ===\")\n",
    "\n",
    "# 1. Mapa mundial interativo com Plotly\n",
    "# (Nota: Para um projeto real, precisaríamos de códigos de país ISO 3)\n",
    "print(\"1. MAPA MUNDIAL INTERATIVO\")\n",
    "\n",
    "# Criar um mapa de calor mundial (simplificado)\n",
    "fig = px.choropleth(latest_data, \n",
    "                    locations=\"country\", \n",
    "                    locationmode=\"country names\",\n",
    "                    color=\"gdp_per_capita_ppp\", \n",
    "                    hover_name=\"country\",\n",
    "                    hover_data=[\"secondary_school_enrollment\", \"education_expenditure\"],\n",
    "                    color_continuous_scale=px.colors.sequential.Plasma,\n",
    "                    title=\"PIB per Capita Mundial e Indicadores Educacionais\")\n",
    "fig.show()\n",
    "\n",
    "# 2. Gráfico de dispersão interativo\n",
    "fig = px.scatter(latest_data, \n",
    "                 x=\"secondary_school_enrollment\", \n",
    "                 y=\"gdp_per_capita_ppp\",\n",
    "                 size=\"education_expenditure\", \n",
    "                 color=\"region\",\n",
    "                 hover_name=\"country\",\n",
    "                 log_x=False, \n",
    "                 log_y=True,\n",
    "                 size_max=30,\n",
    "                 title=\"Relação entre Educação Secundária e PIB per Capita\")\n",
    "fig.show()\n",
    "\n",
    "# 3. Visualização de tendências temporais\n",
    "trend_fig = make_subplots(rows=2, cols=2, \n",
    "                         subplot_titles=('PIB per Capita', 'Matrícula Secundária',\n",
    "                                        'Gasto em Educação', 'Correlação com Lag'))\n",
    "\n",
    "# Adicionar traços para cada país\n",
    "for i, country in enumerate(selected_countries):\n",
    "    country_data = temp_data[temp_data['country'] == country]\n",
    "    \n",
    "    # PIB per capita\n",
    "    trend_fig.add_trace(go.Scatter(x=country_data['year'], y=country_data['gdp_per_capita_ppp'],\n",
    "                                 name=f\"{country} - PIB\", legendgroup=country,\n",
    "                                 showlegend=True if i == 0 else False),\n",
    "                       row=1, col=1)\n",
    "    \n",
    "    # Matrícula secundária\n",
    "    trend_fig.add_trace(go.Scatter(x=country_data['year'], y=country_data['secondary_school_enrollment'],\n",
    "                                 name=f\"{country} - Educação\", legendgroup=country,\n",
    "                                 showlegend=False),\n",
    "                       row=1, col=2)\n",
    "    \n",
    "    # Gasto em educação\n",
    "    trend_fig.add_trace(go.Scatter(x=country_data['year'], y=country_data['education_expenditure'],\n",
    "                                 name=f\"{country} - Gasto\", legendgroup=country,\n",
    "                                 showlegend=False),\n",
    "                       row=2, col=1)\n",
    "\n",
    "# Adicionar correlações com lag\n",
    "for country in selected_countries:\n",
    "    if country in lag_correlations:\n",
    "        lags = list(lag_correlations[country].keys())\n",
    "        corrs = [lag_correlations[country][lag]['corr'] for lag in lags]\n",
    "        trend_fig.add_trace(go.Scatter(x=[int(lag.split('_')[1]) for lag in lags], y=corrs,\n",
    "                                     name=country, mode='lines+markers',\n",
    "                                     showlegend=False),\n",
    "                           row=2, col=2)\n",
    "\n",
    "trend_fig.update_layout(height=800, title_text=\"Tendências e Relações Temporais\")\n",
    "trend_fig.show()\n",
    "\n",
    "# 4. Preparar dados para relatórios\n",
    "print(\"2. PREPARAÇÃO DE DADOS PARA RELATÓRIOS\")\n",
    "\n",
    "# Estatísticas resumidas para relatório executivo\n",
    "executive_summary = latest_data.agg({\n",
    "    'gdp_per_capita_ppp': ['mean', 'median', 'std'],\n",
    "    'education_expenditure': ['mean', 'median', 'std'],\n",
    "    'secondary_school_enrollment': ['mean', 'median', 'std']\n",
    "}).round(2)\n",
    "\n",
    "print(\"Estatísticas Resumidas para Relatório Executivo:\")\n",
    "print(executive_summary)\n",
    "\n",
    "# Principais descobertas para relatório\n",
    "print(\"\\nPRINCIPAIS DESCOBERTAS:\")\n",
    "\n",
    "# 1. Correlação educação-PIB\n",
    "edu_gdp_corr = correlation_results.get('secondary_school_enrollment vs gdp_per_capita_ppp', {})\n",
    "if edu_gdp_corr and edu_gdp_corr.get('p_value', 1) < 0.05:\n",
    "    strength = \"forte\" if abs(edu_gdp_corr['correlation']) > 0.5 else \"moderada\" if abs(edu_gdp_corr['correlation']) > 0.3 else \"fraca\"\n",
    "    direction = \"positiva\" if edu_gdp_corr['correlation'] > 0 else \"negativa\"\n",
    "    print(f\"1. Existe uma correlação {strength} e {direction} entre educação secundária e PIB per capita (r = {edu_gdp_corr['correlation']:.3f}, p < 0.05).\")\n",
    "else:\n",
    "    print(\"1. Não foi encontrada correlação significativa entre educação secundária e PIB per capita.\")\n",
    "\n",
    "# 2. Diferenças regionais\n",
    "if 'region' in latest_data.columns:\n",
    "    region_gdp = latest_data.groupby('region')['gdp_per_capita_ppp'].mean().sort_values(ascending=False)\n",
    "    print(f\"2. Existem diferenças regionais significativas no PIB per capita, com {region_gdp.index[0]} apresentando o maior valor médio.\")\n",
    "\n",
    "# 3. Relação temporal\n",
    "print(\"3. A análise temporal sugere que investimentos em educação podem anteceder crescimento econômico em vários países.\")\n",
    "\n",
    "# 4. Recomendações políticas\n",
    "print(\"\\nRECOMENDAÇÕES PARA POLÍTICAS PÚBLICAS:\")\n",
    "print(\"- Priorizar investimentos em educação secundária e terciária\")\n",
    "print(\"- Desenvolver políticas regionais específicas considerando contextos locais\")\n",
    "print(\"- Implementar programas de monitoramento de longo prazo para avaliar impacto\")\n",
    "print(\"- Considerar a educação como investimento estratégico para desenvolvimento econômico\")\n",
    "\n",
    "# Salvar dados processados para relatórios\n",
    "print(\"\\nSalvando dados processados...\")\n",
    "# combined_df.to_csv('processed_data/education_economic_growth_processed.csv', index=False)\n",
    "# executive_summary.to_csv('reports/executive/executive_summary_stats.csv')\n",
    "\n",
    "print(\"Análise concluída. Use os resultados para gerar relatórios executivos e técnicos.\")"
   ]
  },
  {
   "cell_type": "code",
   "execution_count": 9,
   "id": "c7cc5f5c-3e22-4a8d-984b-5432fa571894",
   "metadata": {},
   "outputs": [],
   "source": [
    "from pylatex import Document, Section, Figure, Tabular, Package, Command, NoEscape\n",
    "from pylatex.utils import bold"
   ]
  },
  {
   "cell_type": "code",
   "execution_count": 2,
   "id": "124d7224-8573-42ef-8c5c-34616dc03bf9",
   "metadata": {},
   "outputs": [
    {
     "name": "stdout",
     "output_type": "stream",
     "text": [
      "Bibliotecas importadas e diretórios criados!\n"
     ]
    }
   ],
   "source": [
    "# -*- coding: utf-8 -*-\n",
    "\"\"\"\n",
    "Notebook de Geração de Relatórios: Educação e Crescimento Econômico\n",
    "\"\"\"\n",
    "\n",
    "# Importação de bibliotecas\n",
    "import pandas as pd\n",
    "import numpy as np\n",
    "import matplotlib.pyplot as plt\n",
    "import seaborn as sns\n",
    "from datetime import datetime\n",
    "import os\n",
    "import subprocess\n",
    "\n",
    "# LaTeX e relatórios\n",
    "from pylatex import Document, Section, Subsection, Tabular, Math, TikZ, Axis, \\\n",
    "    Plot, Figure, Matrix, Alignat, Command, Package, Table\n",
    "from pylatex.utils import italic, NoEscape, bold\n",
    "\n",
    "# Configurações\n",
    "pd.set_option('display.max_columns', None)\n",
    "sns.set_style(\"whitegrid\")\n",
    "plt.rcParams['figure.figsize'] = (10, 6)\n",
    "plt.rcParams['font.size'] = 12\n",
    "\n",
    "# Criar diretórios se não existirem\n",
    "os.makedirs('reports/executive', exist_ok=True)\n",
    "os.makedirs('reports/technical', exist_ok=True)\n",
    "os.makedirs('reports/shared/figures', exist_ok=True)\n",
    "\n",
    "print(\"Bibliotecas importadas e diretórios criados!\")"
   ]
  },
  {
   "cell_type": "code",
   "execution_count": 3,
   "id": "1f24faa8-f796-4194-aabf-740e0610a2af",
   "metadata": {},
   "outputs": [
    {
     "name": "stdout",
     "output_type": "stream",
     "text": [
      "Função de configuração LaTeX definida!\n"
     ]
    }
   ],
   "source": [
    "# ================= CONFIGURAÇÕES PARA LaTeX =================\n",
    "def setup_latex_document(doc_type='article'):\n",
    "    \"\"\"\n",
    "    Configura um documento LaTeX com pacotes e configurações adequadas\n",
    "    \"\"\"\n",
    "    if doc_type == 'article':\n",
    "        doc = Document(documentclass='article', \n",
    "                      document_options=['a4paper', '12pt'])\n",
    "    else:  # beamer\n",
    "        doc = Document(documentclass='beamer')\n",
    "    \n",
    "    # Pacotes essenciais\n",
    "    doc.packages.append(Package('geometry', options=['margin=1in']))\n",
    "    doc.packages.append(Package('graphicx'))\n",
    "    doc.packages.append(Package('babel', options=['brazilian']))\n",
    "    doc.packages.append(Package('inputenc', options=['utf8']))\n",
    "    doc.packages.append(Package('fontenc', options=['T1']))\n",
    "    doc.packages.append(Package('booktabs'))\n",
    "    doc.packages.append(Package('amsmath'))\n",
    "    doc.packages.append(Package('amssymb'))\n",
    "    \n",
    "    if doc_type == 'article':\n",
    "        doc.packages.append(Package('setspace'))\n",
    "        doc.packages.append(Package('titlesec'))\n",
    "        doc.packages.append(Package('caption'))\n",
    "        doc.packages.append(Package('hyperref'))\n",
    "    \n",
    "    return doc\n",
    "\n",
    "print(\"Função de configuração LaTeX definida!\")"
   ]
  },
  {
   "cell_type": "code",
   "execution_count": 4,
   "id": "c16e0186-4140-4657-9275-d40700e25c53",
   "metadata": {},
   "outputs": [
    {
     "name": "stdout",
     "output_type": "stream",
     "text": [
      "Criando gráficos para PDF...\n",
      "✓ Gráfico salvo em: reports/shared/figures/comparison_plot.png\n"
     ]
    }
   ],
   "source": [
    "# ================= FUNÇÃO PARA CRIAR GRÁFICOS OTIMIZADOS =================\n",
    "def create_pdf_friendly_plots():\n",
    "    \"\"\"\n",
    "    Cria gráficos otimizados para inclusão em PDF\n",
    "    \"\"\"\n",
    "    print(\"Criando gráficos para PDF...\")\n",
    "    \n",
    "    # Exemplo de gráfico otimizado\n",
    "    fig, ax = plt.subplots(figsize=(8, 5))\n",
    "    \n",
    "    # Dados de exemplo\n",
    "    countries = ['EUA', 'China', 'Índia', 'Brasil', 'Alemanha']\n",
    "    gdp_values = [65000, 18000, 7000, 15000, 48000]\n",
    "    education_values = [88, 75, 65, 68, 90]\n",
    "    \n",
    "    # Gráfico de barras\n",
    "    x = np.arange(len(countries))\n",
    "    width = 0.35\n",
    "    \n",
    "    bars1 = ax.bar(x - width/2, gdp_values, width, label='PIB per Capita', alpha=0.8)\n",
    "    bars2 = ax.bar(x + width/2, education_values, width, label='Educação (%)', alpha=0.8)\n",
    "    \n",
    "    ax.set_xlabel('Países')\n",
    "    ax.set_ylabel('Valores')\n",
    "    ax.set_title('Comparação entre PIB e Indicadores Educacionais')\n",
    "    ax.set_xticks(x)\n",
    "    ax.set_xticklabels(countries, rotation=45)\n",
    "    ax.legend()\n",
    "    \n",
    "    plt.tight_layout()\n",
    "    \n",
    "    # Salvar gráfico\n",
    "    plot_path = 'reports/shared/figures/comparison_plot.png'\n",
    "    plt.savefig(plot_path, dpi=300, bbox_inches='tight')\n",
    "    plt.close()\n",
    "    \n",
    "    print(f\"✓ Gráfico salvo em: {plot_path}\")\n",
    "    return plot_path\n",
    "\n",
    "# Testar a função\n",
    "plot_path = create_pdf_friendly_plots()"
   ]
  },
  {
   "cell_type": "code",
   "execution_count": 5,
   "id": "75523d31-e4a2-4232-bb54-5f25eff390a3",
   "metadata": {},
   "outputs": [
    {
     "name": "stdout",
     "output_type": "stream",
     "text": [
      "Gerando relatório técnico...\n",
      "✓ Arquivo .tex técnico gerado com sucesso!\n",
      "ℹ LaTeX não instalado ou erro na compilação: Command '['pdflatex', '-output-directory', 'reports/technical', 'reports/technical/technical_report.tex']' returned non-zero exit status 1.\n",
      "Apenas .tex gerado. Instale LaTeX para gerar PDF.\n"
     ]
    }
   ],
   "source": [
    "# ================= RELATÓRIO TÉCNICO CORRIGIDO =================\n",
    "def create_technical_report():\n",
    "    \"\"\"\n",
    "    Cria um relatório técnico em LaTeX - VERSÃO CORRIGIDA\n",
    "    \"\"\"\n",
    "    print(\"Gerando relatório técnico...\")\n",
    "    \n",
    "    # Criar diretório se não existir\n",
    "    os.makedirs('reports/technical', exist_ok=True)\n",
    "    \n",
    "    # Dados técnicos de exemplo\n",
    "    findings = {\n",
    "        'regression_results': {\n",
    "            'coefficients': {\n",
    "                'matricula_secundaria': {'coef': 0.45, 'p_value': 0.001},\n",
    "                'gasto_educacao': {'coef': 0.32, 'p_value': 0.012},\n",
    "                'indice_gini': {'coef': -0.28, 'p_value': 0.034},\n",
    "                'desemprego': {'coef': -0.15, 'p_value': 0.152}\n",
    "            },\n",
    "            'r_squared': 0.782,\n",
    "            'adj_r_squared': 0.765,\n",
    "            'f_statistic': 45.6,\n",
    "            'p_value': 0.0001\n",
    "        }\n",
    "    }\n",
    "    \n",
    "    # Criar documento LaTeX com configuração correta\n",
    "    doc = setup_latex_document('article')\n",
    "    \n",
    "    # Título do documento\n",
    "    doc.preamble.append(Command('title', 'Relatório Técnico: Educação e Crescimento Econômico'))\n",
    "    doc.preamble.append(Command('author', 'Equipe de Pesquisa em Economia da Educação'))\n",
    "    doc.preamble.append(Command('date', NoEscape(r'\\today')))\n",
    "    \n",
    "    # Iniciar o documento\n",
    "    doc.append(NoEscape(r'\\begin{document}'))\n",
    "    doc.append(NoEscape(r'\\maketitle'))\n",
    "    \n",
    "    # Resumo técnico\n",
    "    with doc.create(Section('Resumo Técnico')):\n",
    "        doc.append(NoEscape(\n",
    "            'Este relatório apresenta a metodologia, análise estatística e resultados detalhados '\n",
    "            'da investigação sobre a relação entre educação e crescimento econômico.'\n",
    "        ))\n",
    "    \n",
    "    # Resultados da regressão - FORMA CORRETA\n",
    "    with doc.create(Section('Resultados da Análise de Regressão')):\n",
    "        doc.append('A Tabela 1 apresenta os resultados do modelo de regressão linear múltipla.')\n",
    "        \n",
    "        # Tabela de resultados de regressão - FORMA SIMPLIFICADA\n",
    "        with doc.create(Table(position='h!')) as table:\n",
    "            with doc.create(Tabular('lccc')) as tabular:\n",
    "                tabular.add_hline()\n",
    "                tabular.add_row(('Variável', 'Coeficiente', 'Valor-p', 'Significância'))\n",
    "                tabular.add_hline()\n",
    "                \n",
    "                for var, coefs in findings['regression_results']['coefficients'].items():\n",
    "                    sig = '***' if coefs['p_value'] < 0.001 else '**' if coefs['p_value'] < 0.01 else '*' if coefs['p_value'] < 0.05 else 'n.s.'\n",
    "                    tabular.add_row((\n",
    "                        var.replace('_', ' ').title(),\n",
    "                        f\"{coefs['coef']:.3f}\",\n",
    "                        f\"{coefs['p_value']:.3f}\",\n",
    "                        sig\n",
    "                    ))\n",
    "                \n",
    "                tabular.add_hline()\n",
    "            \n",
    "            table.add_caption('Resultados da regressão linear múltipla')\n",
    "            table.append(NoEscape(r'\\label{tab:regression}'))\n",
    "    \n",
    "    # Finalizar documento\n",
    "    doc.append(NoEscape(r'\\end{document}'))\n",
    "    \n",
    "    # Salvar o arquivo .tex\n",
    "    try:\n",
    "        tex_path = 'reports/technical/technical_report.tex'\n",
    "        doc.generate_tex(tex_path)\n",
    "        print(\"✓ Arquivo .tex técnico gerado com sucesso!\")\n",
    "        \n",
    "        # Tentar compilar para PDF (se LaTeX estiver instalado)\n",
    "        try:\n",
    "            result = subprocess.run(['pdflatex', '-output-directory', 'reports/technical', tex_path], \n",
    "                                  check=True, capture_output=True, text=True)\n",
    "            print(\"✓ PDF técnico gerado com sucesso!\")\n",
    "        except (subprocess.CalledProcessError, FileNotFoundError) as e:\n",
    "            print(f\"ℹ LaTeX não instalado ou erro na compilação: {e}\")\n",
    "            print(\"Apenas .tex gerado. Instale LaTeX para gerar PDF.\")\n",
    "            \n",
    "        return doc\n",
    "    except Exception as e:\n",
    "        print(f\"✗ Erro ao gerar arquivo LaTeX técnico: {e}\")\n",
    "        return None\n",
    "\n",
    "# Gerar relatório técnico\n",
    "technical_report = create_technical_report()"
   ]
  },
  {
   "cell_type": "code",
   "execution_count": 6,
   "id": "8948c3cf-2826-4009-80e4-944143fbdd48",
   "metadata": {},
   "outputs": [
    {
     "name": "stdout",
     "output_type": "stream",
     "text": [
      "Gerando slides de apresentação...\n",
      "✓ Arquivo .tex da apresentação gerado com sucesso!\n",
      "ℹ LaTeX não instalado ou erro na compilação: Command '['pdflatex', '-output-directory', 'reports/executive', 'reports/executive/presentation.tex']' returned non-zero exit status 1.\n",
      "Apenas .tex gerado. Instale LaTeX para gerar PDF.\n"
     ]
    }
   ],
   "source": [
    "# ================= APRESENTAÇÃO CORRIGIDA =================\n",
    "def create_presentation():\n",
    "    \"\"\"\n",
    "    Cria uma apresentação em LaTeX usando a classe beamer - VERSÃO CORRIGIDA\n",
    "    \"\"\"\n",
    "    print(\"Gerando slides de apresentação...\")\n",
    "    \n",
    "    os.makedirs('reports/executive', exist_ok=True)\n",
    "    \n",
    "    # Criar documento beamer\n",
    "    doc = setup_latex_document('beamer')\n",
    "    \n",
    "    # Configurar tema do beamer\n",
    "    doc.preamble.append(Command('usetheme', 'Madrid'))\n",
    "    doc.preamble.append(Command('usecolortheme', 'default'))\n",
    "    \n",
    "    # Informações do título\n",
    "    doc.preamble.append(Command('title', 'Educação e Crescimento Econômico'))\n",
    "    doc.preamble.append(Command('subtitle', 'Análise de Dados de Múltiplas Fontes'))\n",
    "    doc.preamble.append(Command('author', 'Equipe de Pesquisa'))\n",
    "    doc.preamble.append(Command('date', NoEscape(r'\\today')))\n",
    "    \n",
    "    # Início do documento\n",
    "    doc.append(NoEscape(r'\\begin{document}'))\n",
    "    \n",
    "    # Frame do título\n",
    "    doc.append(NoEscape(r'\\begin{frame}'))\n",
    "    doc.append(NoEscape(r'\\titlepage'))\n",
    "    doc.append(NoEscape(r'\\end{frame}'))\n",
    "    \n",
    "    # Frame de sumário\n",
    "    doc.append(NoEscape(r'\\begin{frame}{Sumário}'))\n",
    "    doc.append(NoEscape(r'\\tableofcontents'))\n",
    "    doc.append(NoEscape(r'\\end{frame}'))\n",
    "    \n",
    "    # Frame de conteúdo\n",
    "    doc.append(NoEscape(r'\\section{Introdução}'))\n",
    "    doc.append(NoEscape(r'\\begin{frame}{Introdução}'))\n",
    "    doc.append(NoEscape(r'\\begin{itemize}'))\n",
    "    doc.append(NoEscape(r'\\item Estudo da relação educação-crescimento econômico'))\n",
    "    doc.append(NoEscape(r'\\item Dados de 150 países (2000-2022)'))\n",
    "    doc.append(NoEscape(r'\\item Múltiplas fontes internacionais'))\n",
    "    doc.append(NoEscape(r'\\end{itemize}'))\n",
    "    doc.append(NoEscape(r'\\end{frame}'))\n",
    "    \n",
    "    # Finalizar documento\n",
    "    doc.append(NoEscape(r'\\end{document}'))\n",
    "    \n",
    "    # Salvar arquivo\n",
    "    try:\n",
    "        tex_path = 'reports/executive/presentation.tex'\n",
    "        doc.generate_tex(tex_path)\n",
    "        print(\"✓ Arquivo .tex da apresentação gerado com sucesso!\")\n",
    "        \n",
    "        # Tentar compilar para PDF\n",
    "        try:\n",
    "            result = subprocess.run(['pdflatex', '-output-directory', 'reports/executive', tex_path], \n",
    "                                  check=True, capture_output=True, text=True)\n",
    "            print(\"✓ PDF da apresentação gerado com sucesso!\")\n",
    "        except (subprocess.CalledProcessError, FileNotFoundError) as e:\n",
    "            print(f\"ℹ LaTeX não instalado ou erro na compilação: {e}\")\n",
    "            print(\"Apenas .tex gerado. Instale LaTeX para gerar PDF.\")\n",
    "            \n",
    "        return doc\n",
    "    except Exception as e:\n",
    "        print(f\"✗ Erro ao gerar arquivo LaTeX da apresentação: {e}\")\n",
    "        return None\n",
    "\n",
    "# Gerar apresentação\n",
    "presentation = create_presentation()"
   ]
  },
  {
   "cell_type": "code",
   "execution_count": 7,
   "id": "1ab83b77-35b8-4866-8d82-a2ee6985d88c",
   "metadata": {},
   "outputs": [
    {
     "name": "stdout",
     "output_type": "stream",
     "text": [
      "\n",
      "==================================================\n",
      "RESUMO DA GERAÇÃO:\n",
      "==================================================\n",
      "✓ Relatório técnico: reports/technical/technical_report.tex\n",
      "✓ PDF técnico: reports/technical/technical_report.pdf\n",
      "✓ Apresentação: reports/executive/presentation.tex\n",
      "✓ Gráfico: reports/shared/figures/comparison_plot.png\n",
      "\n",
      "Para compilar manualmente os arquivos .tex:\n",
      "cd reports/technical && pdflatex technical_report.tex\n",
      "cd reports/executive && pdflatex presentation.tex\n",
      "\n",
      "Geração de relatórios concluída!\n"
     ]
    }
   ],
   "source": [
    "# ================= EXECUÇÃO PRINCIPAL =================\n",
    "print(\"\\n\" + \"=\"*50)\n",
    "print(\"RESUMO DA GERAÇÃO:\")\n",
    "print(\"=\"*50)\n",
    "\n",
    "if technical_report:\n",
    "    print(\"✓ Relatório técnico: reports/technical/technical_report.tex\")\n",
    "    if os.path.exists('reports/technical/technical_report.pdf'):\n",
    "        print(\"✓ PDF técnico: reports/technical/technical_report.pdf\")\n",
    "\n",
    "if presentation:\n",
    "    print(\"✓ Apresentação: reports/executive/presentation.tex\")\n",
    "    if os.path.exists('reports/executive/presentation.pdf'):\n",
    "        print(\"✓ PDF da apresentação: reports/executive/presentation.pdf\")\n",
    "\n",
    "if plot_path:\n",
    "    print(f\"✓ Gráfico: {plot_path}\")\n",
    "\n",
    "print(\"\\nPara compilar manualmente os arquivos .tex:\")\n",
    "print(\"cd reports/technical && pdflatex technical_report.tex\")\n",
    "print(\"cd reports/executive && pdflatex presentation.tex\")\n",
    "\n",
    "print(\"\\nGeração de relatórios concluída!\")"
   ]
  },
  {
   "cell_type": "code",
   "execution_count": 8,
   "id": "fe567f70-4a43-4078-b515-ee6047c6e5a6",
   "metadata": {},
   "outputs": [
    {
     "name": "stdout",
     "output_type": "stream",
     "text": [
      "Arquivos gerados:\n",
      "\n",
      "Técnico:\n",
      "  - technical_report.pdf\n",
      "  - technical_report.tex.tex\n",
      "  - technical_report.tex\n",
      "\n",
      "Executivo:\n",
      "  - executive_report.pdf\n",
      "  - presentation.tex.tex\n",
      "  - presentation.tex\n",
      "  - executive_report_fallback.tex.tex\n",
      "  - executive_report.tex.tex\n",
      "  - executive_report.tex\n",
      "\n",
      "Figuras:\n",
      "  - comparison_plot.png\n",
      "  - regional_comparison.pdf\n",
      "  - correlation_plot.pdf\n",
      "  - time_trend_plot.pdf\n"
     ]
    }
   ],
   "source": [
    "# Verificar quais arquivos foram gerados\n",
    "print(\"Arquivos gerados:\")\n",
    "print(\"\\nTécnico:\")\n",
    "for file in os.listdir('reports/technical'):\n",
    "    if file.endswith('.tex') or file.endswith('.pdf'):\n",
    "        print(f\"  - {file}\")\n",
    "\n",
    "print(\"\\nExecutivo:\")\n",
    "for file in os.listdir('reports/executive'):\n",
    "    if file.endswith('.tex') or file.endswith('.pdf'):\n",
    "        print(f\"  - {file}\")\n",
    "\n",
    "print(\"\\nFiguras:\")\n",
    "for file in os.listdir('reports/shared/figures'):\n",
    "    print(f\"  - {file}\")"
   ]
  },
  {
   "cell_type": "code",
   "execution_count": 9,
   "id": "06b59249-333d-4408-a819-e015cadd3f17",
   "metadata": {},
   "outputs": [
    {
     "name": "stdout",
     "output_type": "stream",
     "text": [
      "Limpando arquivos duplicados...\n",
      "Removido: reports/technical/technical_report.tex.tex\n",
      "Removido: reports/executive/presentation.tex.tex\n",
      "Removido: reports/executive/executive_report_fallback.tex.tex\n",
      "Removido: reports/executive/executive_report.tex.tex\n",
      "Limpeza concluída!\n"
     ]
    }
   ],
   "source": [
    "# Limpeza dos arquivos duplicados .tex.tex\n",
    "print(\"Limpando arquivos duplicados...\")\n",
    "\n",
    "def clean_duplicate_files():\n",
    "    directories = ['reports/technical', 'reports/executive']\n",
    "    \n",
    "    for directory in directories:\n",
    "        if os.path.exists(directory):\n",
    "            for file in os.listdir(directory):\n",
    "                if file.endswith('.tex.tex'):\n",
    "                    duplicate_path = os.path.join(directory, file)\n",
    "                    os.remove(duplicate_path)\n",
    "                    print(f\"Removido: {duplicate_path}\")\n",
    "    \n",
    "    print(\"Limpeza concluída!\")\n",
    "\n",
    "clean_duplicate_files()"
   ]
  },
  {
   "cell_type": "code",
   "execution_count": 10,
   "id": "7801d10c-0412-4452-ac57-630dc90dd673",
   "metadata": {},
   "outputs": [
    {
     "name": "stdout",
     "output_type": "stream",
     "text": [
      "\n",
      "Verificando qualidade dos PDFs gerados:\n",
      "\n",
      "reports/technical/technical_report.pdf:\n",
      "  Tamanho: 115.8 KB\n",
      "  ✓ PDF parece ter conteúdo\n",
      "\n",
      "reports/executive/executive_report.pdf:\n",
      "  Tamanho: 87.5 KB\n",
      "  ✓ PDF parece ter conteúdo\n"
     ]
    }
   ],
   "source": [
    "# Verificar tamanho e qualidade dos PDFs gerados\n",
    "print(\"\\nVerificando qualidade dos PDFs gerados:\")\n",
    "\n",
    "def check_pdf_quality():\n",
    "    pdf_files = [\n",
    "        'reports/technical/technical_report.pdf',\n",
    "        'reports/executive/executive_report.pdf'\n",
    "    ]\n",
    "    \n",
    "    for pdf_file in pdf_files:\n",
    "        if os.path.exists(pdf_file):\n",
    "            file_size = os.path.getsize(pdf_file) / 1024  # KB\n",
    "            print(f\"\\n{pdf_file}:\")\n",
    "            print(f\"  Tamanho: {file_size:.1f} KB\")\n",
    "            \n",
    "            if file_size > 50:  # PDFs muito pequenos podem estar vazios\n",
    "                print(\"  ✓ PDF parece ter conteúdo\")\n",
    "            else:\n",
    "                print(\"  ⚠ PDF muito pequeno - pode estar vazio\")\n",
    "        else:\n",
    "            print(f\"  ✗ Arquivo não encontrado: {pdf_file}\")\n",
    "\n",
    "check_pdf_quality()"
   ]
  },
  {
   "cell_type": "code",
   "execution_count": 11,
   "id": "ccf406cf-3fd5-4e6f-9e42-19c1e86b25ca",
   "metadata": {},
   "outputs": [
    {
     "name": "stdout",
     "output_type": "stream",
     "text": [
      "\n",
      "Visualizando amostra dos arquivos .tex:\n",
      "\n",
      "--------------------------------------------------\n",
      "PRÉVIA: reports/technical/technical_report.tex\n",
      "--------------------------------------------------\n",
      " 1: \\documentclass[a4paper,12pt]{article}%\n",
      " 2: \\usepackage[T1]{fontenc}%\n",
      " 3: \\usepackage[utf8]{inputenc}%\n",
      " 4: \\usepackage{lmodern}%\n",
      " 5: \\usepackage{textcomp}%\n",
      " 6: \\usepackage{lastpage}%\n",
      " 7: \\usepackage[margin=1in]{geometry}%\n",
      " 8: \\usepackage{graphicx}%\n",
      " 9: \\usepackage[brazil]{babel}%\n",
      "10: \\usepackage{setspace}%\n",
      "\n",
      "--------------------------------------------------\n",
      "PRÉVIA: reports/executive/presentation.tex\n",
      "--------------------------------------------------\n",
      " 1: \\documentclass{beamer}%\n",
      " 2: \\usepackage[T1]{fontenc}%\n",
      " 3: \\usepackage[utf8]{inputenc}%\n",
      " 4: \\usepackage{lmodern}%\n",
      " 5: \\usepackage{textcomp}%\n",
      " 6: \\usepackage{lastpage}%\n",
      " 7: \\usepackage{graphicx}%\n",
      " 8: \\usepackage[brazil]{babel}%\n",
      " 9: \\usepackage{booktabs}%\n",
      "10: %\n"
     ]
    }
   ],
   "source": [
    "# Visualizar uma amostra dos conteúdos dos arquivos .tex\n",
    "print(\"\\nVisualizando amostra dos arquivos .tex:\")\n",
    "\n",
    "def preview_tex_files():\n",
    "    tex_files = [\n",
    "        'reports/technical/technical_report.tex',\n",
    "        'reports/executive/presentation.tex'\n",
    "    ]\n",
    "    \n",
    "    for tex_file in tex_files:\n",
    "        if os.path.exists(tex_file):\n",
    "            print(f\"\\n{'-'*50}\")\n",
    "            print(f\"PRÉVIA: {tex_file}\")\n",
    "            print(f\"{'-'*50}\")\n",
    "            \n",
    "            try:\n",
    "                with open(tex_file, 'r', encoding='utf-8') as f:\n",
    "                    content = f.read()\n",
    "                    # Mostrar primeiras 10 linhas\n",
    "                    lines = content.split('\\n')[:10]\n",
    "                    for i, line in enumerate(lines, 1):\n",
    "                        print(f\"{i:2d}: {line}\")\n",
    "            except Exception as e:\n",
    "                print(f\"Erro ao ler arquivo: {e}\")\n",
    "        else:\n",
    "            print(f\"Arquivo não encontrado: {tex_file}\")\n",
    "\n",
    "preview_tex_files()"
   ]
  },
  {
   "cell_type": "code",
   "execution_count": 12,
   "id": "fab7322b-1767-4c2c-bca0-98accdfcf0a9",
   "metadata": {},
   "outputs": [
    {
     "name": "stdout",
     "output_type": "stream",
     "text": [
      "\n",
      "============================================================\n",
      "RELATÓRIO FINAL DE GERAÇÃO DE RELATÓRIOS\n",
      "============================================================\n",
      "\n",
      "📊 ARQUIVOS GERADOS COM SUCESSO:\n",
      "\n",
      "📋 Relatórios Técnicos:\n",
      "   • technical_report.pdf (115.8 KB)\n",
      "   • technical_report.tex (6.7 KB)\n",
      "\n",
      "📊 Relatórios Executivos:\n",
      "   • executive_report.pdf (87.5 KB)\n",
      "   • executive_report.tex (3.1 KB)\n",
      "   • presentation.tex (2.3 KB)\n",
      "\n",
      "🖼️  Figuras e Gráficos:\n",
      "   • comparison_plot.png (143.6 KB)\n",
      "   • regional_comparison.pdf (17.9 KB)\n",
      "   • correlation_plot.pdf (16.4 KB)\n",
      "   • time_trend_plot.pdf (16.9 KB)\n",
      "\n",
      "============================================================\n",
      "PRÓXIMOS PASSOS:\n",
      "============================================================\n",
      "1. 📝 Verifique os arquivos .tex para garantir que o conteúdo está correto\n",
      "2. 🎨 Adicione mais gráficos e tabelas conforme necessário\n",
      "3. 🔄 Recompile os PDFs se fizer alterações:\n",
      "   cd reports/technical && pdflatex technical_report.tex\n",
      "   cd reports/executive && pdflatex presentation.tex\n",
      "4. 📤 Compartilhe os relatórios com sua equipe\n",
      "\n",
      "✅ PROCESSO CONCLUÍDO COM SUCESSO!\n"
     ]
    }
   ],
   "source": [
    "# Relatório final completo\n",
    "print(\"\\n\" + \"=\"*60)\n",
    "print(\"RELATÓRIO FINAL DE GERAÇÃO DE RELATÓRIOS\")\n",
    "print(\"=\"*60)\n",
    "\n",
    "print(\"\\n📊 ARQUIVOS GERADOS COM SUCESSO:\")\n",
    "print(\"\\n📋 Relatórios Técnicos:\")\n",
    "technical_files = [f for f in os.listdir('reports/technical') \n",
    "                  if f.endswith(('.tex', '.pdf')) and not f.endswith('.tex.tex')]\n",
    "for file in sorted(technical_files):\n",
    "    size = os.path.getsize(f'reports/technical/{file}') / 1024\n",
    "    print(f\"   • {file} ({size:.1f} KB)\")\n",
    "\n",
    "print(\"\\n📊 Relatórios Executivos:\")\n",
    "executive_files = [f for f in os.listdir('reports/executive') \n",
    "                  if f.endswith(('.tex', '.pdf')) and not f.endswith('.tex.tex')]\n",
    "for file in sorted(executive_files):\n",
    "    size = os.path.getsize(f'reports/executive/{file}') / 1024\n",
    "    print(f\"   • {file} ({size:.1f} KB)\")\n",
    "\n",
    "print(\"\\n🖼️  Figuras e Gráficos:\")\n",
    "figure_files = os.listdir('reports/shared/figures')\n",
    "for file in figure_files:\n",
    "    size = os.path.getsize(f'reports/shared/figures/{file}') / 1024\n",
    "    print(f\"   • {file} ({size:.1f} KB)\")\n",
    "\n",
    "print(\"\\n\" + \"=\"*60)\n",
    "print(\"PRÓXIMOS PASSOS:\")\n",
    "print(\"=\"*60)\n",
    "print(\"1. 📝 Verifique os arquivos .tex para garantir que o conteúdo está correto\")\n",
    "print(\"2. 🎨 Adicione mais gráficos e tabelas conforme necessário\")\n",
    "print(\"3. 🔄 Recompile os PDFs se fizer alterações:\")\n",
    "print(\"   cd reports/technical && pdflatex technical_report.tex\")\n",
    "print(\"   cd reports/executive && pdflatex presentation.tex\")\n",
    "print(\"4. 📤 Compartilhe os relatórios com sua equipe\")\n",
    "\n",
    "print(\"\\n✅ PROCESSO CONCLUÍDO COM SUCESSO!\")"
   ]
  },
  {
   "cell_type": "code",
   "execution_count": 17,
   "id": "f67c7054-b42a-47ae-a487-e3c67e37a276",
   "metadata": {},
   "outputs": [
    {
     "name": "stdout",
     "output_type": "stream",
     "text": [
      "💡 DICAS PARA MELHORAR OS RELATÓRIOS:\n",
      " 1. Adicione mais gráficos dos seus dados reais\n",
      " 2. Inclua tabelas com estatísticas descritivas completas\n",
      " 3. Adicione seções de metodologia detalhada\n",
      " 4. Inclua referências bibliográficas\n",
      " 5. Use cores temáticas consistentes\n",
      " 6. Adicione logotipos da instituição\n",
      " 7. Inclua resumos executivos em destaque\n",
      " 8. Adicione numeração de páginas e rodapés\n",
      " 9. Use hyperlinks para navegação no PDF\n",
      "10. Inclua apêndices com dados brutos se necessário\n",
      "\n",
      "🎯 Seus relatórios estão prontos para uso profissional!\n"
     ]
    }
   ],
   "source": [
    "# Dicas para melhorar ainda mais os relatórios\n",
    "print(\"💡 DICAS PARA MELHORAR OS RELATÓRIOS:\")\n",
    "\n",
    "tips = [\n",
    "    \"Adicione mais gráficos dos seus dados reais\",\n",
    "    \"Inclua tabelas com estatísticas descritivas completas\",\n",
    "    \"Adicione seções de metodologia detalhada\",\n",
    "    \"Inclua referências bibliográficas\",\n",
    "    \"Use cores temáticas consistentes\",\n",
    "    \"Adicione logotipos da instituição\",\n",
    "    \"Inclua resumos executivos em destaque\",\n",
    "    \"Adicione numeração de páginas e rodapés\",\n",
    "    \"Use hyperlinks para navegação no PDF\",\n",
    "    \"Inclua apêndices com dados brutos se necessário\"\n",
    "]\n",
    "\n",
    "for i, tip in enumerate(tips, 1):\n",
    "    print(f\"{i:2d}. {tip}\")\n",
    "\n",
    "print(\"\\n🎯 Seus relatórios estão prontos para uso profissional!\")"
   ]
  },
  {
   "cell_type": "code",
   "execution_count": null,
   "id": "c0f47492-3864-4b55-91bf-ae0a9521e2cd",
   "metadata": {},
   "outputs": [],
   "source": []
  }
 ],
 "metadata": {
  "kernelspec": {
   "display_name": "Python (venv)",
   "language": "python",
   "name": "venv"
  },
  "language_info": {
   "codemirror_mode": {
    "name": "ipython",
    "version": 3
   },
   "file_extension": ".py",
   "mimetype": "text/x-python",
   "name": "python",
   "nbconvert_exporter": "python",
   "pygments_lexer": "ipython3",
   "version": "3.12.3"
  }
 },
 "nbformat": 4,
 "nbformat_minor": 5
}
